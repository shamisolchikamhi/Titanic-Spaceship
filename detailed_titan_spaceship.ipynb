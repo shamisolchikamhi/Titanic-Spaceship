{
 "cells": [
  {
   "cell_type": "markdown",
   "id": "5d4d5d86",
   "metadata": {},
   "source": [
    "## The Titanic Spaceship problem \n",
    "\n",
    "### Problem description\n",
    "This machine learning problem involves predicting which passengers were transported to an alternate dimension during a spacetime anomaly involving the Spaceship Titanic. Given historical passenger data recovered from the damaged ship's computer system, the task is to build a classification model that accurately predicts the transport status of each passenger. \n"
   ]
  },
  {
   "cell_type": "markdown",
   "id": "765b032a",
   "metadata": {},
   "source": [
    "### Packages\n",
    "- **pandas, numpy**: Data manipulation and numerical operations.\n",
    "- **train_test_split**: Splits dataset for training/testing.\n",
    "- **LabelEncoder, StandardScaler**: Converts categorical labels, scales features.\n",
    "- **RandomForestClassifier, GradientBoostingClassifier, XGBClassifier, StackingClassifier**: Ensemble classifiers for prediction.\n",
    "- **LogisticRegression**: Linear classifier.\n",
    "- **matplotlib.pyplot**: Data visualization.\n",
    "- **Keras (Dense, Dropout, BatchNormalization, EarlyStopping, Adam, Sequential)**: Builds and trains neural networks.\n",
    "- **KNNImputer**: Imputes missing values.\n",
    "- **accuracy_score, classification_report**: Evaluates classification metrics.\n",
    "- **GridSearchCV**: Hyperparameter tuning.\n"
   ]
  },
  {
   "cell_type": "code",
   "id": "25ebba22",
   "metadata": {
    "papermill": {
     "duration": 0.002801,
     "end_time": "2023-11-15T07:14:46.413152",
     "exception": false,
     "start_time": "2023-11-15T07:14:46.410351",
     "status": "completed"
    },
    "tags": [],
    "ExecuteTime": {
     "end_time": "2024-10-18T12:46:49.084216Z",
     "start_time": "2024-10-18T12:46:16.784466Z"
    }
   },
   "source": [
    "import pandas as pd\n",
    "import numpy as np\n",
    "from sklearn.model_selection import train_test_split\n",
    "from sklearn.preprocessing import LabelEncoder\n",
    "from sklearn.ensemble import RandomForestClassifier, GradientBoostingClassifier, StackingClassifier\n",
    "from xgboost import XGBClassifier\n",
    "from sklearn.linear_model import LogisticRegression\n",
    "import matplotlib.pyplot as plt\n",
    "from tensorflow.keras.layers import Dense, Dropout, BatchNormalization\n",
    "from tensorflow.keras.callbacks import EarlyStopping\n",
    "from tensorflow.keras.optimizers import Adam\n",
    "from tensorflow.keras.models import Sequential\n",
    "from tensorflow.keras.layers import Dense\n",
    "from sklearn.impute import KNNImputer\n",
    "from sklearn.metrics import accuracy_score, classification_report\n",
    "from sklearn.preprocessing import StandardScaler\n",
    "from sklearn.model_selection import GridSearchCV"
   ],
   "outputs": [],
   "execution_count": 1
  },
  {
   "cell_type": "code",
   "id": "2ce5987e",
   "metadata": {
    "_cell_guid": "b1076dfc-b9ad-4769-8c92-a6c4dae69d19",
    "_uuid": "8f2839f25d086af736a60e9eeb907d3b93b6e0e5",
    "execution": {
     "iopub.execute_input": "2023-11-15T07:14:46.419898Z",
     "iopub.status.busy": "2023-11-15T07:14:46.419393Z",
     "iopub.status.idle": "2023-11-15T07:14:46.944806Z",
     "shell.execute_reply": "2023-11-15T07:14:46.942860Z"
    },
    "papermill": {
     "duration": 0.532378,
     "end_time": "2023-11-15T07:14:46.947930",
     "exception": false,
     "start_time": "2023-11-15T07:14:46.415552",
     "status": "completed"
    },
    "tags": [],
    "ExecuteTime": {
     "end_time": "2024-10-18T12:46:49.095188Z",
     "start_time": "2024-10-18T12:46:49.087209Z"
    }
   },
   "source": [
    "# Input data files are available in the read-only \"../input/\" directory\n",
    "# For example, running this (by clicking run or pressing Shift+Enter) will list all files under the input directory\n",
    "\n",
    "import os\n",
    "for dirname, _, filenames in os.walk('/kaggle/input'):\n",
    "    for filename in filenames:\n",
    "        print(os.path.join(dirname, filename))\n",
    "\n",
    "# You can write up to 20GB to the current directory (/kaggle/working/) that gets preserved as output when you create a version using \"Save & Run All\" \n",
    "# You can also write temporary files to /kaggle/temp/, but they won't be saved outside of the current session"
   ],
   "outputs": [],
   "execution_count": 2
  },
  {
   "cell_type": "markdown",
   "id": "2e890bb2446a84e6",
   "metadata": {},
   "source": [
    "### Explore data\n",
    "The functions here help in preparing and analyzing a dataset, which are crucial steps in solving a machine learning problem effectively:\n",
    "\n",
    "##### 1. Balance of the target varible \n",
    "This function checks the balance of the target variable in the dataset.\n",
    " A balanced target variable is important for classifictaion machine learning models to perform well. If the target is imbalanced, it may lead to biased predictions, and additional techniques like resampling or adjusting class weights may be needed. Fortunately, this data set has a good balance of the target variable\n",
    "\n",
    "##### 2. Check for and fill missing values\n",
    "This functions checks for missing values in the dataset. It uses `isnull().sum()` to calculate the number of missing values in each column and returns only those columns with missing values greater than zero. This is useful for identifying columns that need imputation or cleaning. Missing values can significantly affect the performance of machine learning models.\n",
    "- **Categorical Columns**: Fills missing values with the most common value (`mode`) for columns like `HomePlanet`, `CryoSleep`, etc.\n",
    "- **Numerical Columns**: Fills missing values with the median for columns like `Age`, `RoomService`, etc.\n",
    "\n",
    "Identifying columns with missing values allows for proper handling, ensuring the model is trained on complete and accurate data, which reduces the risk of biased or erroneous predictions. Filling categorical columns with the mode and numerical columns with the median helps preserve the distribution of data and reduces the likelihood of introducing bias. This ensures that the dataset is complete, which helps the model generalize better and produce more accurate predictions.\n"
   ]
  },
  {
   "cell_type": "code",
   "id": "74a950d3cd73d58b",
   "metadata": {
    "ExecuteTime": {
     "end_time": "2024-10-18T12:46:49.109284Z",
     "start_time": "2024-10-18T12:46:49.097183Z"
    }
   },
   "source": [
    "def check_target_balance(data, target_column):\n",
    "    \"\"\"\n",
    "    Check the balance of the target variable.\n",
    "    \"\"\"\n",
    "    target_balance = data[target_column].value_counts(normalize=True)\n",
    "    return target_balance\n",
    "\n",
    "def check_missing_values(data):\n",
    "    \"\"\"\n",
    "    Check for missing values in the dataset.\n",
    "    \"\"\"\n",
    "    missing_values = data.isnull().sum()\n",
    "    return missing_values[missing_values > 0]\n",
    "\n",
    "def fill_missing_values(data):\n",
    "    \"\"\"\n",
    "    Fill missing values in the dataset.\n",
    "    - Drop rows with missing values in critical columns.\n",
    "    - Fill categorical columns with the mode.\n",
    "    - Fill numerical columns with the median.\n",
    "    \"\"\"\n",
    " \n",
    "    # Fill missing categorical values with the mode\n",
    "    for column in ['HomePlanet', 'CryoSleep', 'Cabin', 'Destination', 'VIP', 'Name']:\n",
    "        data[column].fillna(data[column].mode()[0], inplace=True)\n",
    "\n",
    "    # Fill missing numerical values with the median\n",
    "    for column in ['Age', 'RoomService', 'FoodCourt', 'ShoppingMall', 'Spa', 'VRDeck']:\n",
    "        data[column].fillna(data[column].median(), inplace=True)\n",
    "\n",
    "    return data\n"
   ],
   "outputs": [],
   "execution_count": 3
  },
  {
   "cell_type": "markdown",
   "id": "192464ca912e4f00",
   "metadata": {},
   "source": [
    "### KNN imputing\n",
    "Attempting to use  K-Nearest Neighbors (KNN) Imputation to fill missing values in a dataset. This method is more advanced than using mean, median, or mode.\n",
    "##### How It Works\n",
    "Encode Categorical Variables: Categorical columns are temporarily encoded into numbers.\n",
    "KNN Imputation: KNNImputer fills missing values based on similar data points (n_neighbors=5).\n",
    "Reverse Encoding: Categorical columns are decoded back to their original labels.\n",
    "##### Advantages\n",
    "More Accurate: Uses data similarity for better estimates compared to simple imputation.\n",
    "Handles Mixed Data: Works for both categorical and numerical columns.\n",
    "Maintains Relationships: Preserves relationships between features, improving model consistency.\n",
    "\n",
    "Here is more details on KNN imputation (: , https://medium.com/@kyawsawhtoon/a-guide-to-knn-imputation-95e2dc496e."
   ]
  },
  {
   "cell_type": "code",
   "id": "aab2f3b86b315add",
   "metadata": {
    "ExecuteTime": {
     "end_time": "2024-10-18T12:46:49.122599Z",
     "start_time": "2024-10-18T12:46:49.113264Z"
    }
   },
   "source": [
    "def fill_missing_values_with_knn(data, categorical_columns, numerical_columns, n_neighbors=5):\n",
    "    \"\"\"\n",
    "    Impute missing values for both categorical and numerical variables using KNN Imputation.\n",
    "    \n",
    "    Parameters:\n",
    "    - data: The dataframe with missing values.\n",
    "    - categorical_columns: List of categorical column names.\n",
    "    - numerical_columns: List of numerical column names.\n",
    "    - n_neighbors: Number of neighbors to use for KNN imputation (default is 5).\n",
    "    \n",
    "    Returns:\n",
    "    - data: The dataframe with imputed missing values.\n",
    "    \"\"\"\n",
    "    # Create a copy of the data to avoid altering the original dataset\n",
    "    data_copy = data.copy()\n",
    "\n",
    "    # Temporarily encode categorical variables using LabelEncoder\n",
    "    label_encoders = {}\n",
    "    for col in categorical_columns:\n",
    "        le = LabelEncoder()\n",
    "        data_copy[col] = le.fit_transform(data_copy[col].astype(str))\n",
    "        label_encoders[col] = le\n",
    "\n",
    "    # Apply KNNImputer for both categorical and numerical columns\n",
    "    knn_imputer = KNNImputer(n_neighbors=n_neighbors)\n",
    "    imputed_data = pd.DataFrame(knn_imputer.fit_transform(data_copy), columns=data_copy.columns)\n",
    "\n",
    "    # Reverse the encoding for categorical variables\n",
    "    for col in categorical_columns:\n",
    "        imputed_data[col] = imputed_data[col].round().astype(int)\n",
    "        imputed_data[col] = label_encoders[col].inverse_transform(imputed_data[col])\n",
    "\n",
    "    # Return the imputed dataset\n",
    "    return imputed_data"
   ],
   "outputs": [],
   "execution_count": 4
  },
  {
   "cell_type": "markdown",
   "id": "140581e8ef859a75",
   "metadata": {},
   "source": [
    "### Standadise data\n",
    "The standardize_numerical_columns function standardizes numerical columns in a dataset using z-score normalization. This process ensures that each numerical column has a mean of 0 and a standard deviation of 1, which is beneficial for many machine learning models that perform better when features are on a similar scale.\n",
    "##### How It Works\n",
    "Select Numerical Columns: The function standardizes columns such as Age, RoomService, FoodCourt, etc.\\\n",
    "Data Copy: A copy of the original dataset is created to avoid modifying the original data.\n",
    "Standard Scaling: The function uses StandardScaler from scikit-learn to transform the numerical columns to a standardized scale.\n",
    "##### Advantages\n",
    "Improves Model Performance: Many machine learning algorithms, such as gradient descent-based models, work better when features are on a similar scale.\n",
    "Handles Outliers: Z-score normalization reduces the impact of outliers, making the model more stable."
   ]
  },
  {
   "cell_type": "code",
   "id": "9116a887d9ad0af5",
   "metadata": {
    "ExecuteTime": {
     "end_time": "2024-10-18T12:46:49.138163Z",
     "start_time": "2024-10-18T12:46:49.125198Z"
    }
   },
   "source": [
    "def standardize_numerical_columns(data):\n",
    "    \"\"\"\n",
    "    Standardize numerical columns in the dataset using z-score normalization.\n",
    "    \n",
    "    Parameters:\n",
    "    - data: The dataframe containing the data.\n",
    "    - numerical_columns: List of numerical column names to be standardized.\n",
    "    \n",
    "    Returns:\n",
    "    - data: The dataframe with standardized numerical columns.\n",
    "    \"\"\"\n",
    "    \n",
    "    # Define the numerical columns that you want to standardize\n",
    "    numerical_columns = ['Age', 'RoomService', 'FoodCourt', 'ShoppingMall', 'Spa', 'VRDeck']\n",
    "    # Create a copy of the data to avoid altering the original dataset\n",
    "    data_copy = data.copy()\n",
    "\n",
    "    # Initialize the StandardScaler\n",
    "    scaler = StandardScaler()\n",
    "\n",
    "    # Standardize the numerical columns\n",
    "    data_copy[numerical_columns] = scaler.fit_transform(data_copy[numerical_columns])\n",
    "\n",
    "    return data_copy"
   ],
   "outputs": [],
   "execution_count": 5
  },
  {
   "cell_type": "markdown",
   "id": "7653e5528c993f14",
   "metadata": {},
   "source": [
    "### Feature Engineering\n",
    "The feature_engineering function performs transformations on the dataset to create new features and enhance existing ones. Feature engineering is crucial for improving the predictive power of machine learning models.\n",
    "\n",
    "##### Key Transformations\n",
    "1. Split 'Cabin' into 'Deck', 'CabinNumber', and 'Side': The function splits the Cabin column into three new columns: Deck, CabinNumber, and Side, providing more detailed information for modeling.\n",
    "2. Create 'TotalSpend' Feature: A new feature TotalSpend is created by summing up expenses from RoomService, FoodCourt, ShoppingMall, Spa, and VRDeck. This gives a comprehensive view of a passenger's spending behavior.\n",
    "3. Create 'AgeGroup' Feature: The function categorizes Age into AgeGroup with bins like Child, Teen, YoungAdult, Adult, and Senior to better capture age-based patterns.\n",
    "4. Split 'Name' into 'FirstName' and 'Surname': The Name column is split into FirstName and Surname to provide granular information that may be useful for certain models.\n",
    "##### Advantages\n",
    "1. Enhanced Model Features: These transformations help machine learning models identify underlying relationships better by providing new and more informative features.\n",
    "2. Improved Interpretability: Features like AgeGroup and TotalSpend improve interpretability by categorizing continuous data and summarizing spending behavior."
   ]
  },
  {
   "cell_type": "code",
   "id": "459412624132ac1b",
   "metadata": {
    "ExecuteTime": {
     "end_time": "2024-10-18T12:46:49.150367Z",
     "start_time": "2024-10-18T12:46:49.140152Z"
    }
   },
   "source": [
    "def feature_engineering(data):\n",
    "    \"\"\"\n",
    "    Perform feature engineering on the dataset.\n",
    "    - Split 'Cabin' into 'Deck', 'CabinNumber', and 'Side'.\n",
    "    - Create 'TotalSpend' feature.\n",
    "    - Create 'AgeGroup' feature.\n",
    "    \"\"\"\n",
    "    # Split 'Cabin' into 'Deck', 'CabinNumber', and 'Side'\n",
    "    data[['Deck', 'CabinNumber', 'Side']] = data['Cabin'].astype(str).str.split('/', expand=True)\n",
    "    data['CabinNumber'] = pd.to_numeric(data['CabinNumber'], errors='coerce')\n",
    "    # data = data.drop(columns=['Cabin'])\n",
    "\n",
    "    # Create 'TotalSpend' feature\n",
    "    data['TotalSpend'] = (\n",
    "        data['RoomService'] +\n",
    "        data['FoodCourt'] +\n",
    "        data['ShoppingMall'] +\n",
    "        data['Spa'] +\n",
    "        data['VRDeck']\n",
    "    )\n",
    "\n",
    "    # Create age groups\n",
    "    bins = [0, 12, 18, 35, 60, 100]\n",
    "    labels = ['Child', 'Teen', 'YoungAdult', 'Adult', 'Senior']\n",
    "    data['AgeGroup'] = pd.cut(data['Age'], bins=bins, labels=labels)\n",
    "    \n",
    "    # Ensure 'Name' column contains strings and handle missing values\n",
    "    data['Name'] = data['Name'].astype(str).fillna('Unknown Unknown')\n",
    "    \n",
    "    # Split 'Name' into a list of strings\n",
    "    name_split = data['Name'].str.split(' ', n=1, expand=True)  # Split only at the first space\n",
    "    \n",
    "    # Assign the first part as 'FirstName' and the second part as 'Surname'\n",
    "    data['FirstName'] = name_split[0]\n",
    "    data['Surname'] = name_split[1].fillna('Unknown')\n",
    "\n",
    "    return data"
   ],
   "outputs": [],
   "execution_count": 6
  },
  {
   "cell_type": "markdown",
   "id": "d2fa06557cf65c25",
   "metadata": {},
   "source": [
    "### Categorical variables encoding\n",
    "The encode_categorical_features function encodes categorical columns in the dataset using LabelEncoder. This step is essential to convert categorical data into numerical values, which are required by many machine learning models.\n",
    "\n",
    "##### How It Works\n",
    "LabelEncoder: The function uses LabelEncoder from scikit-learn to transform categorical features into numerical labels. Each unique category in a column is assigned a unique integer.\n",
    "Columns Encoded: Columns like HomePlanet, CryoSleep, Destination, and others are encoded to prepare them for modeling.\n",
    "##### Advantages\n",
    "Model Compatibility: Many machine learning algorithms, such as decision trees and linear models, require numerical input. Encoding categorical features allows these models to effectively use the dataset.\n",
    "Handles Multiple Categories: Label encoding is a straightforward way to handle multiple categorical variables without introducing high-dimensional feature sets like one-hot encoding.\n",
    "\n"
   ]
  },
  {
   "cell_type": "code",
   "id": "8400848cc5e27f9d",
   "metadata": {
    "ExecuteTime": {
     "end_time": "2024-10-18T12:46:49.159203Z",
     "start_time": "2024-10-18T12:46:49.152356Z"
    }
   },
   "source": [
    "def encode_categorical_features(data):\n",
    "    \"\"\"\n",
    "    Encode categorical features using LabelEncoder.\n",
    "    \"\"\"\n",
    "    label_encoder = LabelEncoder()\n",
    "    for column in ['HomePlanet', 'CryoSleep', 'Destination', 'VIP', 'Name', 'Deck', 'Side', \n",
    "                   'AgeGroup', 'FirstName', 'Surname', 'Cabin']:\n",
    "        data[column] = label_encoder.fit_transform(data[column].astype(str))\n",
    "    \n",
    "    return data"
   ],
   "outputs": [],
   "execution_count": 7
  },
  {
   "cell_type": "markdown",
   "id": "e3a803ef4d1343ef",
   "metadata": {},
   "source": [
    "### Preprocess data \n",
    "Finally, we  perform the entire data preprocessing pipeline, preparing the dataset for machine learning using the funtions desribed above. \n",
    "\n",
    "##### Steps in the Preprocessing Pipeline\n",
    "1. Fill Missing Values\n",
    "2. Feature Engineering\n",
    "3. Standardize Numerical Columns\n",
    "4. Encode Categorical Variables\n",
    "5. Check Target Variable Balance"
   ]
  },
  {
   "cell_type": "code",
   "id": "92c8e97290e957a8",
   "metadata": {
    "collapsed": false,
    "ExecuteTime": {
     "end_time": "2024-10-18T12:46:49.168337Z",
     "start_time": "2024-10-18T12:46:49.162192Z"
    }
   },
   "source": [
    "def preprocess_data(data, target_column='Transported'):\n",
    "    \"\"\"\n",
    "    Perform the full preprocessing pipeline on the dataset.\n",
    "    \"\"\"\n",
    "    data = fill_missing_values(data)\n",
    "\n",
    "    # Step 2: Perform feature engineering\n",
    "    data = feature_engineering(data)\n",
    "        # Apply the function to standardize numerical columns\n",
    "    data = standardize_numerical_columns(data)\n",
    "    # Step 3: Encode categorical variables\n",
    "    data = encode_categorical_features(data)\n",
    "\n",
    "    # Step 4: Check target variable balance\n",
    "    target_balance = check_target_balance(data, target_column)\n",
    "    print(\"Target Balance:\\n\", target_balance)\n",
    "\n",
    "    return data\n"
   ],
   "outputs": [],
   "execution_count": 8
  },
  {
   "cell_type": "markdown",
   "id": "ea55df2abeeddc51",
   "metadata": {},
   "source": [
    "### Predictions\n",
    "The prediction_results function processes a dataset, makes predictions using a trained model, and saves the results to a CSV file.\n",
    "\n",
    "##### Steps\n",
    "\n",
    "1. Load Dataset: Reads the dataset and initializes the Transported column as False.\n",
    "2. Preprocess Data: Applies all preprocessing steps using preprocess_data.\n",
    "3. Drop Unnecessary Columns: Keeps only the relevant input features for prediction.\n",
    "4. Make Predictions: Uses the model to predict outcomes.\n",
    "5. Format Predictions: Converts numerical predictions to 'True' or 'False' based on a threshold.\n",
    "6. Save Results: Saves PassengerId and predictions to a CSV file."
   ]
  },
  {
   "cell_type": "code",
   "id": "f15ef8d57c51bcff",
   "metadata": {
    "ExecuteTime": {
     "end_time": "2024-10-18T12:46:49.181751Z",
     "start_time": "2024-10-18T12:46:49.170329Z"
    }
   },
   "source": [
    "def prediction_results(model, data_path='test.csv'):\n",
    "    \"\"\"\n",
    "    Process the dataset, make predictions using the provided model, and save the results to a CSV file.\n",
    "    \n",
    "    Parameters:\n",
    "    - data_path: Path to the dataset to be processed.\n",
    "    - model: Trained machine learning model to use for predictions.\n",
    "    - output_path: Path to save the prediction results.\n",
    "    \"\"\"\n",
    "    # Load the dataset\n",
    "    output_path=f'{model}_predictions.csv'\n",
    "    data = pd.read_csv(data_path)\n",
    "    data['Transported'] = False\n",
    "    data = preprocess_data(data)\n",
    "    passenger_ids = data['PassengerId']\n",
    "    data = data.drop(columns=['PassengerId', 'Transported', 'Name', 'VIP', 'FirstName'])\n",
    "    predictions = model.predict(data)\n",
    "    \n",
    "    # Ensure predictions are a 2D array\n",
    "    if predictions.ndim == 1:\n",
    "        predictions = predictions.reshape(-1, 1)\n",
    "    \n",
    "    # Convert float predictions to 'True' or 'False' if needed\n",
    "    if predictions.dtype == np.float32:\n",
    "        predictions = np.where(predictions > 0.5, 'True', 'False')\n",
    "    # Create a DataFrame with PassengerId and Transported predictions\n",
    "    output = pd.DataFrame({'PassengerId': passenger_ids, 'Transported': predictions.flatten()})\n",
    "    output.to_csv(output_path, index=False)"
   ],
   "outputs": [],
   "execution_count": 9
  },
  {
   "metadata": {},
   "cell_type": "markdown",
   "source": [
    "### Lets get startred !\n",
    "Prepare and split the dataset for training a machine learning model.\n",
    "##### Steps\n",
    "1. Load Data: Loads and previews the dataset.\n",
    "2. Check & Preprocess: Handles missing values, feature engineering, and encoding.\n",
    "3. Split Data: Splits into features (X) and target (y) and performs a train-test split (80/20)."
   ],
   "id": "3d845ad33fb3a0ba"
  },
  {
   "cell_type": "code",
   "id": "31cdb07b70015b62",
   "metadata": {
    "ExecuteTime": {
     "end_time": "2024-10-18T12:46:49.557177Z",
     "start_time": "2024-10-18T12:46:49.185932Z"
    }
   },
   "source": [
    "spaceship_data = pd.read_csv('train.csv')\n",
    "spaceship_data.head()\n",
    "\n",
    "check_missing_values(spaceship_data)\n",
    "spaceship_data = preprocess_data(spaceship_data)\n",
    "\n",
    "# Split the dataset into features and target\n",
    "X = spaceship_data.drop(columns=['PassengerId', 'Transported', 'Name', 'VIP', 'FirstName'])\n",
    "y = spaceship_data['Transported']\n",
    "X_train, X_test, y_train, y_test = train_test_split(X, y, test_size=0.2, random_state=42)"
   ],
   "outputs": [
    {
     "name": "stderr",
     "output_type": "stream",
     "text": [
      "C:\\Users\\shami\\AppData\\Local\\Temp\\ipykernel_2996\\1115986842.py:25: FutureWarning: A value is trying to be set on a copy of a DataFrame or Series through chained assignment using an inplace method.\n",
      "The behavior will change in pandas 3.0. This inplace method will never work because the intermediate object on which we are setting values always behaves as a copy.\n",
      "\n",
      "For example, when doing 'df[col].method(value, inplace=True)', try using 'df.method({col: value}, inplace=True)' or df[col] = df[col].method(value) instead, to perform the operation inplace on the original object.\n",
      "\n",
      "\n",
      "  data[column].fillna(data[column].mode()[0], inplace=True)\n",
      "C:\\Users\\shami\\AppData\\Local\\Temp\\ipykernel_2996\\1115986842.py:25: FutureWarning: Downcasting object dtype arrays on .fillna, .ffill, .bfill is deprecated and will change in a future version. Call result.infer_objects(copy=False) instead. To opt-in to the future behavior, set `pd.set_option('future.no_silent_downcasting', True)`\n",
      "  data[column].fillna(data[column].mode()[0], inplace=True)\n",
      "C:\\Users\\shami\\AppData\\Local\\Temp\\ipykernel_2996\\1115986842.py:29: FutureWarning: A value is trying to be set on a copy of a DataFrame or Series through chained assignment using an inplace method.\n",
      "The behavior will change in pandas 3.0. This inplace method will never work because the intermediate object on which we are setting values always behaves as a copy.\n",
      "\n",
      "For example, when doing 'df[col].method(value, inplace=True)', try using 'df.method({col: value}, inplace=True)' or df[col] = df[col].method(value) instead, to perform the operation inplace on the original object.\n",
      "\n",
      "\n",
      "  data[column].fillna(data[column].median(), inplace=True)\n",
      "C:\\Users\\shami\\AppData\\Local\\Temp\\ipykernel_2996\\1115986842.py:29: FutureWarning: A value is trying to be set on a copy of a DataFrame or Series through chained assignment using an inplace method.\n",
      "The behavior will change in pandas 3.0. This inplace method will never work because the intermediate object on which we are setting values always behaves as a copy.\n",
      "\n",
      "For example, when doing 'df[col].method(value, inplace=True)', try using 'df.method({col: value}, inplace=True)' or df[col] = df[col].method(value) instead, to perform the operation inplace on the original object.\n",
      "\n",
      "\n",
      "  data[column].fillna(data[column].median(), inplace=True)\n",
      "C:\\Users\\shami\\AppData\\Local\\Temp\\ipykernel_2996\\1115986842.py:29: FutureWarning: A value is trying to be set on a copy of a DataFrame or Series through chained assignment using an inplace method.\n",
      "The behavior will change in pandas 3.0. This inplace method will never work because the intermediate object on which we are setting values always behaves as a copy.\n",
      "\n",
      "For example, when doing 'df[col].method(value, inplace=True)', try using 'df.method({col: value}, inplace=True)' or df[col] = df[col].method(value) instead, to perform the operation inplace on the original object.\n",
      "\n",
      "\n",
      "  data[column].fillna(data[column].median(), inplace=True)\n",
      "C:\\Users\\shami\\AppData\\Local\\Temp\\ipykernel_2996\\1115986842.py:29: FutureWarning: A value is trying to be set on a copy of a DataFrame or Series through chained assignment using an inplace method.\n",
      "The behavior will change in pandas 3.0. This inplace method will never work because the intermediate object on which we are setting values always behaves as a copy.\n",
      "\n",
      "For example, when doing 'df[col].method(value, inplace=True)', try using 'df.method({col: value}, inplace=True)' or df[col] = df[col].method(value) instead, to perform the operation inplace on the original object.\n",
      "\n",
      "\n",
      "  data[column].fillna(data[column].median(), inplace=True)\n",
      "C:\\Users\\shami\\AppData\\Local\\Temp\\ipykernel_2996\\1115986842.py:29: FutureWarning: A value is trying to be set on a copy of a DataFrame or Series through chained assignment using an inplace method.\n",
      "The behavior will change in pandas 3.0. This inplace method will never work because the intermediate object on which we are setting values always behaves as a copy.\n",
      "\n",
      "For example, when doing 'df[col].method(value, inplace=True)', try using 'df.method({col: value}, inplace=True)' or df[col] = df[col].method(value) instead, to perform the operation inplace on the original object.\n",
      "\n",
      "\n",
      "  data[column].fillna(data[column].median(), inplace=True)\n",
      "C:\\Users\\shami\\AppData\\Local\\Temp\\ipykernel_2996\\1115986842.py:29: FutureWarning: A value is trying to be set on a copy of a DataFrame or Series through chained assignment using an inplace method.\n",
      "The behavior will change in pandas 3.0. This inplace method will never work because the intermediate object on which we are setting values always behaves as a copy.\n",
      "\n",
      "For example, when doing 'df[col].method(value, inplace=True)', try using 'df.method({col: value}, inplace=True)' or df[col] = df[col].method(value) instead, to perform the operation inplace on the original object.\n",
      "\n",
      "\n",
      "  data[column].fillna(data[column].median(), inplace=True)\n"
     ]
    },
    {
     "name": "stdout",
     "output_type": "stream",
     "text": [
      "Target Balance:\n",
      " Transported\n",
      "True     0.503624\n",
      "False    0.496376\n",
      "Name: proportion, dtype: float64\n"
     ]
    }
   ],
   "execution_count": 10
  },
  {
   "cell_type": "markdown",
   "id": "f12d5774a9db8b62",
   "metadata": {},
   "source": "# Models"
  },
  {
   "cell_type": "markdown",
   "id": "eae52bea",
   "metadata": {},
   "source": [
    "### 1. Random Forrest\n",
    "The first model atteted here is thet Random Forest, an ensemble learning method that combines multiple decision trees to improve prediction accuracy and control overfitting. Each tree is built on a different subset of data, and the final prediction is determined by averaging (for regression) or voting (for classification) the results from all trees. The model is well-suited for handling both classification and regression tasks and can manage high-dimensional datasets effectively.\n",
    "###### 81% accuracy\n",
    "##### Steps\n",
    "\n",
    "1. Define Parameter Grid: Specifies a range of values for key hyperparameters such as n_estimators, max_depth, min_samples_split, etc., to optimize the model using GridSearchCV.\n",
    "2. Set up and Run GridSearchCV: Uses GridSearchCV to find the best parameters for the Random Forest model through cross-validation (cv=3), optimizing for accuracy.\n",
    "3. Evaluate Best Model: Fits the best model to the test data and evaluates it using accuracy and a classification report.\n",
    "4. Feature Importance: Extracts and plots feature importance to understand the most impactful features on model predictions. This was important for me to choose the best and significant features for the other models. "
   ]
  },
  {
   "cell_type": "code",
   "id": "1875957eb247e066",
   "metadata": {
    "ExecuteTime": {
     "end_time": "2024-10-18T12:52:50.367153Z",
     "start_time": "2024-10-18T12:46:49.559168Z"
    }
   },
   "source": [
    "# Define the parameter grid for RandomForest\n",
    "param_grid = {\n",
    "    'n_estimators': [50, 100, 200],\n",
    "    'max_depth': [None, 10, 20, 30],\n",
    "    'min_samples_split': [2, 5, 10],\n",
    "    'min_samples_leaf': [1, 2, 4],\n",
    "    'max_features': ['auto', 'sqrt', 'log2']\n",
    "}\n",
    "rf = RandomForestClassifier(random_state=42, class_weight='balanced')\n",
    "# Set up GridSearchCV\n",
    "grid_search = GridSearchCV(estimator=rf, param_grid=param_grid, cv=3, n_jobs=-1, verbose=2, scoring='accuracy')\n",
    "\n",
    "# Fit GridSearchCV to find the best parameters\n",
    "grid_search.fit(X_train, y_train)\n",
    "\n",
    "# Get the best parameters and best estimator\n",
    "best_params = grid_search.best_params_\n",
    "random_forrest = grid_search.best_estimator_\n",
    "\n",
    "y_pred_best = random_forrest.predict(X_test)\n",
    "accuracy_best = accuracy_score(y_test, y_pred_best)\n",
    "report_best = classification_report(y_test, y_pred_best)\n",
    "best_params, accuracy_best, report_best\n",
    "\n",
    "# feature importance \n",
    "# Extract feature importances\n",
    "importances = random_forrest.feature_importances_\n",
    "feature_importances = pd.DataFrame({\n",
    "    'Feature': X_train.columns.tolist(),\n",
    "    'Importance': importances\n",
    "}).sort_values(by='Importance', ascending=False)\n",
    "\n",
    "# Plot the feature importances\n",
    "plt.figure(figsize=(10, 6))\n",
    "plt.barh(feature_importances['Feature'], feature_importances['Importance'], color='skyblue')\n",
    "plt.xlabel('Importance')\n",
    "plt.ylabel('Feature')\n",
    "plt.title('Random Forest Feature Importance')\n",
    "plt.gca().invert_yaxis()  # Invert y-axis to show the most important feature on top\n",
    "plt.show()\n",
    "\n",
    "prediction_results(model=random_forrest)"
   ],
   "outputs": [
    {
     "name": "stdout",
     "output_type": "stream",
     "text": [
      "Fitting 3 folds for each of 324 candidates, totalling 972 fits\n"
     ]
    },
    {
     "name": "stderr",
     "output_type": "stream",
     "text": [
      "C:\\Users\\shami\\AppData\\Local\\Programs\\Python\\Python312\\Lib\\site-packages\\sklearn\\model_selection\\_validation.py:540: FitFailedWarning: \n",
      "324 fits failed out of a total of 972.\n",
      "The score on these train-test partitions for these parameters will be set to nan.\n",
      "If these failures are not expected, you can try to debug them by setting error_score='raise'.\n",
      "\n",
      "Below are more details about the failures:\n",
      "--------------------------------------------------------------------------------\n",
      "83 fits failed with the following error:\n",
      "Traceback (most recent call last):\n",
      "  File \"C:\\Users\\shami\\AppData\\Local\\Programs\\Python\\Python312\\Lib\\site-packages\\sklearn\\model_selection\\_validation.py\", line 888, in _fit_and_score\n",
      "    estimator.fit(X_train, y_train, **fit_params)\n",
      "  File \"C:\\Users\\shami\\AppData\\Local\\Programs\\Python\\Python312\\Lib\\site-packages\\sklearn\\base.py\", line 1466, in wrapper\n",
      "    estimator._validate_params()\n",
      "  File \"C:\\Users\\shami\\AppData\\Local\\Programs\\Python\\Python312\\Lib\\site-packages\\sklearn\\base.py\", line 666, in _validate_params\n",
      "    validate_parameter_constraints(\n",
      "  File \"C:\\Users\\shami\\AppData\\Local\\Programs\\Python\\Python312\\Lib\\site-packages\\sklearn\\utils\\_param_validation.py\", line 95, in validate_parameter_constraints\n",
      "    raise InvalidParameterError(\n",
      "sklearn.utils._param_validation.InvalidParameterError: The 'max_features' parameter of RandomForestClassifier must be an int in the range [1, inf), a float in the range (0.0, 1.0], a str among {'sqrt', 'log2'} or None. Got 'auto' instead.\n",
      "\n",
      "--------------------------------------------------------------------------------\n",
      "241 fits failed with the following error:\n",
      "Traceback (most recent call last):\n",
      "  File \"C:\\Users\\shami\\AppData\\Local\\Programs\\Python\\Python312\\Lib\\site-packages\\sklearn\\model_selection\\_validation.py\", line 888, in _fit_and_score\n",
      "    estimator.fit(X_train, y_train, **fit_params)\n",
      "  File \"C:\\Users\\shami\\AppData\\Local\\Programs\\Python\\Python312\\Lib\\site-packages\\sklearn\\base.py\", line 1466, in wrapper\n",
      "    estimator._validate_params()\n",
      "  File \"C:\\Users\\shami\\AppData\\Local\\Programs\\Python\\Python312\\Lib\\site-packages\\sklearn\\base.py\", line 666, in _validate_params\n",
      "    validate_parameter_constraints(\n",
      "  File \"C:\\Users\\shami\\AppData\\Local\\Programs\\Python\\Python312\\Lib\\site-packages\\sklearn\\utils\\_param_validation.py\", line 95, in validate_parameter_constraints\n",
      "    raise InvalidParameterError(\n",
      "sklearn.utils._param_validation.InvalidParameterError: The 'max_features' parameter of RandomForestClassifier must be an int in the range [1, inf), a float in the range (0.0, 1.0], a str among {'log2', 'sqrt'} or None. Got 'auto' instead.\n",
      "\n",
      "  warnings.warn(some_fits_failed_message, FitFailedWarning)\n",
      "C:\\Users\\shami\\AppData\\Local\\Programs\\Python\\Python312\\Lib\\site-packages\\sklearn\\model_selection\\_search.py:1052: UserWarning: One or more of the test scores are non-finite: [       nan        nan        nan        nan        nan        nan\n",
      "        nan        nan        nan        nan        nan        nan\n",
      "        nan        nan        nan        nan        nan        nan\n",
      "        nan        nan        nan        nan        nan        nan\n",
      "        nan        nan        nan 0.80112166 0.80184067 0.80313489\n",
      " 0.79853322 0.80529192 0.80586713 0.80126546 0.80241588 0.8039977\n",
      " 0.79953983 0.80255968 0.80140926 0.80327869 0.80500431 0.80327869\n",
      " 0.80255968 0.80097785 0.80327869 0.80184067 0.80169687 0.80342249\n",
      " 0.80184067 0.80169687 0.80342249 0.80126546 0.8038539  0.80500431\n",
      " 0.80112166 0.80184067 0.80313489 0.79853322 0.80529192 0.80586713\n",
      " 0.80126546 0.80241588 0.8039977  0.79953983 0.80255968 0.80140926\n",
      " 0.80327869 0.80500431 0.80327869 0.80255968 0.80097785 0.80327869\n",
      " 0.80184067 0.80169687 0.80342249 0.80184067 0.80169687 0.80342249\n",
      " 0.80126546 0.8038539  0.80500431        nan        nan        nan\n",
      "        nan        nan        nan        nan        nan        nan\n",
      "        nan        nan        nan        nan        nan        nan\n",
      "        nan        nan        nan        nan        nan        nan\n",
      "        nan        nan        nan        nan        nan        nan\n",
      " 0.80083405 0.80342249 0.80457291 0.79867702 0.80155306 0.80442911\n",
      " 0.80227207 0.80112166 0.80371009 0.80040265 0.80126546 0.80069025\n",
      " 0.80112166 0.80011504 0.80327869 0.80097785 0.80169687 0.80227207\n",
      " 0.80069025 0.79910843 0.80126546 0.80069025 0.79910843 0.80126546\n",
      " 0.80083405 0.79925223 0.80184067 0.80083405 0.80342249 0.80457291\n",
      " 0.79867702 0.80155306 0.80442911 0.80227207 0.80112166 0.80371009\n",
      " 0.80040265 0.80126546 0.80069025 0.80112166 0.80011504 0.80327869\n",
      " 0.80097785 0.80169687 0.80227207 0.80069025 0.79910843 0.80126546\n",
      " 0.80069025 0.79910843 0.80126546 0.80083405 0.79925223 0.80184067\n",
      "        nan        nan        nan        nan        nan        nan\n",
      "        nan        nan        nan        nan        nan        nan\n",
      "        nan        nan        nan        nan        nan        nan\n",
      "        nan        nan        nan        nan        nan        nan\n",
      "        nan        nan        nan 0.80054645 0.80284728 0.80356629\n",
      " 0.80011504 0.80356629 0.80557952 0.79968364 0.80299108 0.80299108\n",
      " 0.79982744 0.80126546 0.80371009 0.80255968 0.80327869 0.80442911\n",
      " 0.80126546 0.80069025 0.80486051 0.80126546 0.80255968 0.80457291\n",
      " 0.80126546 0.80255968 0.80457291 0.80313489 0.8038539  0.80500431\n",
      " 0.80054645 0.80284728 0.80356629 0.80011504 0.80356629 0.80557952\n",
      " 0.79968364 0.80299108 0.80299108 0.79982744 0.80126546 0.80371009\n",
      " 0.80255968 0.80327869 0.80442911 0.80126546 0.80069025 0.80486051\n",
      " 0.80126546 0.80255968 0.80457291 0.80126546 0.80255968 0.80457291\n",
      " 0.80313489 0.8038539  0.80500431        nan        nan        nan\n",
      "        nan        nan        nan        nan        nan        nan\n",
      "        nan        nan        nan        nan        nan        nan\n",
      "        nan        nan        nan        nan        nan        nan\n",
      "        nan        nan        nan        nan        nan        nan\n",
      " 0.80126546 0.80184067 0.80327869 0.79853322 0.80486051 0.80557952\n",
      " 0.80126546 0.80241588 0.8039977  0.79953983 0.80255968 0.80155306\n",
      " 0.80327869 0.80529192 0.80371009 0.80241588 0.80040265 0.80342249\n",
      " 0.80184067 0.80169687 0.80342249 0.80184067 0.80169687 0.80342249\n",
      " 0.80126546 0.8038539  0.80500431 0.80126546 0.80184067 0.80327869\n",
      " 0.79853322 0.80486051 0.80557952 0.80126546 0.80241588 0.8039977\n",
      " 0.79953983 0.80255968 0.80155306 0.80327869 0.80529192 0.80371009\n",
      " 0.80241588 0.80040265 0.80342249 0.80184067 0.80169687 0.80342249\n",
      " 0.80184067 0.80169687 0.80342249 0.80126546 0.8038539  0.80500431]\n",
      "  warnings.warn(\n"
     ]
    },
    {
     "data": {
      "text/plain": [
       "<Figure size 1000x600 with 1 Axes>"
      ],
      "image/png": "[encoded data removed]"
     },
     "metadata": {},
     "output_type": "display_data"
    },
    {
     "name": "stderr",
     "output_type": "stream",
     "text": [
      "C:\\Users\\shami\\AppData\\Local\\Temp\\ipykernel_2996\\1115986842.py:25: FutureWarning: A value is trying to be set on a copy of a DataFrame or Series through chained assignment using an inplace method.\n",
      "The behavior will change in pandas 3.0. This inplace method will never work because the intermediate object on which we are setting values always behaves as a copy.\n",
      "\n",
      "For example, when doing 'df[col].method(value, inplace=True)', try using 'df.method({col: value}, inplace=True)' or df[col] = df[col].method(value) instead, to perform the operation inplace on the original object.\n",
      "\n",
      "\n",
      "  data[column].fillna(data[column].mode()[0], inplace=True)\n",
      "C:\\Users\\shami\\AppData\\Local\\Temp\\ipykernel_2996\\1115986842.py:25: FutureWarning: Downcasting object dtype arrays on .fillna, .ffill, .bfill is deprecated and will change in a future version. Call result.infer_objects(copy=False) instead. To opt-in to the future behavior, set `pd.set_option('future.no_silent_downcasting', True)`\n",
      "  data[column].fillna(data[column].mode()[0], inplace=True)\n",
      "C:\\Users\\shami\\AppData\\Local\\Temp\\ipykernel_2996\\1115986842.py:29: FutureWarning: A value is trying to be set on a copy of a DataFrame or Series through chained assignment using an inplace method.\n",
      "The behavior will change in pandas 3.0. This inplace method will never work because the intermediate object on which we are setting values always behaves as a copy.\n",
      "\n",
      "For example, when doing 'df[col].method(value, inplace=True)', try using 'df.method({col: value}, inplace=True)' or df[col] = df[col].method(value) instead, to perform the operation inplace on the original object.\n",
      "\n",
      "\n",
      "  data[column].fillna(data[column].median(), inplace=True)\n",
      "C:\\Users\\shami\\AppData\\Local\\Temp\\ipykernel_2996\\1115986842.py:29: FutureWarning: A value is trying to be set on a copy of a DataFrame or Series through chained assignment using an inplace method.\n",
      "The behavior will change in pandas 3.0. This inplace method will never work because the intermediate object on which we are setting values always behaves as a copy.\n",
      "\n",
      "For example, when doing 'df[col].method(value, inplace=True)', try using 'df.method({col: value}, inplace=True)' or df[col] = df[col].method(value) instead, to perform the operation inplace on the original object.\n",
      "\n",
      "\n",
      "  data[column].fillna(data[column].median(), inplace=True)\n",
      "C:\\Users\\shami\\AppData\\Local\\Temp\\ipykernel_2996\\1115986842.py:29: FutureWarning: A value is trying to be set on a copy of a DataFrame or Series through chained assignment using an inplace method.\n",
      "The behavior will change in pandas 3.0. This inplace method will never work because the intermediate object on which we are setting values always behaves as a copy.\n",
      "\n",
      "For example, when doing 'df[col].method(value, inplace=True)', try using 'df.method({col: value}, inplace=True)' or df[col] = df[col].method(value) instead, to perform the operation inplace on the original object.\n",
      "\n",
      "\n",
      "  data[column].fillna(data[column].median(), inplace=True)\n",
      "C:\\Users\\shami\\AppData\\Local\\Temp\\ipykernel_2996\\1115986842.py:29: FutureWarning: A value is trying to be set on a copy of a DataFrame or Series through chained assignment using an inplace method.\n",
      "The behavior will change in pandas 3.0. This inplace method will never work because the intermediate object on which we are setting values always behaves as a copy.\n",
      "\n",
      "For example, when doing 'df[col].method(value, inplace=True)', try using 'df.method({col: value}, inplace=True)' or df[col] = df[col].method(value) instead, to perform the operation inplace on the original object.\n",
      "\n",
      "\n",
      "  data[column].fillna(data[column].median(), inplace=True)\n",
      "C:\\Users\\shami\\AppData\\Local\\Temp\\ipykernel_2996\\1115986842.py:29: FutureWarning: A value is trying to be set on a copy of a DataFrame or Series through chained assignment using an inplace method.\n",
      "The behavior will change in pandas 3.0. This inplace method will never work because the intermediate object on which we are setting values always behaves as a copy.\n",
      "\n",
      "For example, when doing 'df[col].method(value, inplace=True)', try using 'df.method({col: value}, inplace=True)' or df[col] = df[col].method(value) instead, to perform the operation inplace on the original object.\n",
      "\n",
      "\n",
      "  data[column].fillna(data[column].median(), inplace=True)\n",
      "C:\\Users\\shami\\AppData\\Local\\Temp\\ipykernel_2996\\1115986842.py:29: FutureWarning: A value is trying to be set on a copy of a DataFrame or Series through chained assignment using an inplace method.\n",
      "The behavior will change in pandas 3.0. This inplace method will never work because the intermediate object on which we are setting values always behaves as a copy.\n",
      "\n",
      "For example, when doing 'df[col].method(value, inplace=True)', try using 'df.method({col: value}, inplace=True)' or df[col] = df[col].method(value) instead, to perform the operation inplace on the original object.\n",
      "\n",
      "\n",
      "  data[column].fillna(data[column].median(), inplace=True)\n"
     ]
    },
    {
     "name": "stdout",
     "output_type": "stream",
     "text": [
      "Target Balance:\n",
      " Transported\n",
      "False    1.0\n",
      "Name: proportion, dtype: float64\n"
     ]
    },
    {
     "ename": "OSError",
     "evalue": "[Errno 22] Invalid argument: \"RandomForestClassifier(class_weight='balanced', min_samples_split=5,\\n                       n_estimators=200, random_state=42)_predictions.csv\"",
     "output_type": "error",
     "traceback": [
      "\u001B[1;31m---------------------------------------------------------------------------\u001B[0m",
      "\u001B[1;31mOSError\u001B[0m                                   Traceback (most recent call last)",
      "Cell \u001B[1;32mIn[11], line 42\u001B[0m\n\u001B[0;32m     39\u001B[0m plt\u001B[38;5;241m.\u001B[39mgca()\u001B[38;5;241m.\u001B[39minvert_yaxis()  \u001B[38;5;66;03m# Invert y-axis to show the most important feature on top\u001B[39;00m\n\u001B[0;32m     40\u001B[0m plt\u001B[38;5;241m.\u001B[39mshow()\n\u001B[1;32m---> 42\u001B[0m \u001B[43mprediction_results\u001B[49m\u001B[43m(\u001B[49m\u001B[43mmodel\u001B[49m\u001B[38;5;241;43m=\u001B[39;49m\u001B[43mrandom_forrest\u001B[49m\u001B[43m)\u001B[49m\n",
      "Cell \u001B[1;32mIn[9], line 28\u001B[0m, in \u001B[0;36mprediction_results\u001B[1;34m(model, data_path)\u001B[0m\n\u001B[0;32m     26\u001B[0m \u001B[38;5;66;03m# Create a DataFrame with PassengerId and Transported predictions\u001B[39;00m\n\u001B[0;32m     27\u001B[0m output \u001B[38;5;241m=\u001B[39m pd\u001B[38;5;241m.\u001B[39mDataFrame({\u001B[38;5;124m'\u001B[39m\u001B[38;5;124mPassengerId\u001B[39m\u001B[38;5;124m'\u001B[39m: passenger_ids, \u001B[38;5;124m'\u001B[39m\u001B[38;5;124mTransported\u001B[39m\u001B[38;5;124m'\u001B[39m: predictions\u001B[38;5;241m.\u001B[39mflatten()})\n\u001B[1;32m---> 28\u001B[0m \u001B[43moutput\u001B[49m\u001B[38;5;241;43m.\u001B[39;49m\u001B[43mto_csv\u001B[49m\u001B[43m(\u001B[49m\u001B[43moutput_path\u001B[49m\u001B[43m,\u001B[49m\u001B[43m \u001B[49m\u001B[43mindex\u001B[49m\u001B[38;5;241;43m=\u001B[39;49m\u001B[38;5;28;43;01mFalse\u001B[39;49;00m\u001B[43m)\u001B[49m\n",
      "File \u001B[1;32m~\\AppData\\Local\\Programs\\Python\\Python312\\Lib\\site-packages\\pandas\\util\\_decorators.py:333\u001B[0m, in \u001B[0;36mdeprecate_nonkeyword_arguments.<locals>.decorate.<locals>.wrapper\u001B[1;34m(*args, **kwargs)\u001B[0m\n\u001B[0;32m    327\u001B[0m \u001B[38;5;28;01mif\u001B[39;00m \u001B[38;5;28mlen\u001B[39m(args) \u001B[38;5;241m>\u001B[39m num_allow_args:\n\u001B[0;32m    328\u001B[0m     warnings\u001B[38;5;241m.\u001B[39mwarn(\n\u001B[0;32m    329\u001B[0m         msg\u001B[38;5;241m.\u001B[39mformat(arguments\u001B[38;5;241m=\u001B[39m_format_argument_list(allow_args)),\n\u001B[0;32m    330\u001B[0m         \u001B[38;5;167;01mFutureWarning\u001B[39;00m,\n\u001B[0;32m    331\u001B[0m         stacklevel\u001B[38;5;241m=\u001B[39mfind_stack_level(),\n\u001B[0;32m    332\u001B[0m     )\n\u001B[1;32m--> 333\u001B[0m \u001B[38;5;28;01mreturn\u001B[39;00m \u001B[43mfunc\u001B[49m\u001B[43m(\u001B[49m\u001B[38;5;241;43m*\u001B[39;49m\u001B[43margs\u001B[49m\u001B[43m,\u001B[49m\u001B[43m \u001B[49m\u001B[38;5;241;43m*\u001B[39;49m\u001B[38;5;241;43m*\u001B[39;49m\u001B[43mkwargs\u001B[49m\u001B[43m)\u001B[49m\n",
      "File \u001B[1;32m~\\AppData\\Local\\Programs\\Python\\Python312\\Lib\\site-packages\\pandas\\core\\generic.py:3967\u001B[0m, in \u001B[0;36mNDFrame.to_csv\u001B[1;34m(self, path_or_buf, sep, na_rep, float_format, columns, header, index, index_label, mode, encoding, compression, quoting, quotechar, lineterminator, chunksize, date_format, doublequote, escapechar, decimal, errors, storage_options)\u001B[0m\n\u001B[0;32m   3956\u001B[0m df \u001B[38;5;241m=\u001B[39m \u001B[38;5;28mself\u001B[39m \u001B[38;5;28;01mif\u001B[39;00m \u001B[38;5;28misinstance\u001B[39m(\u001B[38;5;28mself\u001B[39m, ABCDataFrame) \u001B[38;5;28;01melse\u001B[39;00m \u001B[38;5;28mself\u001B[39m\u001B[38;5;241m.\u001B[39mto_frame()\n\u001B[0;32m   3958\u001B[0m formatter \u001B[38;5;241m=\u001B[39m DataFrameFormatter(\n\u001B[0;32m   3959\u001B[0m     frame\u001B[38;5;241m=\u001B[39mdf,\n\u001B[0;32m   3960\u001B[0m     header\u001B[38;5;241m=\u001B[39mheader,\n\u001B[1;32m   (...)\u001B[0m\n\u001B[0;32m   3964\u001B[0m     decimal\u001B[38;5;241m=\u001B[39mdecimal,\n\u001B[0;32m   3965\u001B[0m )\n\u001B[1;32m-> 3967\u001B[0m \u001B[38;5;28;01mreturn\u001B[39;00m \u001B[43mDataFrameRenderer\u001B[49m\u001B[43m(\u001B[49m\u001B[43mformatter\u001B[49m\u001B[43m)\u001B[49m\u001B[38;5;241;43m.\u001B[39;49m\u001B[43mto_csv\u001B[49m\u001B[43m(\u001B[49m\n\u001B[0;32m   3968\u001B[0m \u001B[43m    \u001B[49m\u001B[43mpath_or_buf\u001B[49m\u001B[43m,\u001B[49m\n\u001B[0;32m   3969\u001B[0m \u001B[43m    \u001B[49m\u001B[43mlineterminator\u001B[49m\u001B[38;5;241;43m=\u001B[39;49m\u001B[43mlineterminator\u001B[49m\u001B[43m,\u001B[49m\n\u001B[0;32m   3970\u001B[0m \u001B[43m    \u001B[49m\u001B[43msep\u001B[49m\u001B[38;5;241;43m=\u001B[39;49m\u001B[43msep\u001B[49m\u001B[43m,\u001B[49m\n\u001B[0;32m   3971\u001B[0m \u001B[43m    \u001B[49m\u001B[43mencoding\u001B[49m\u001B[38;5;241;43m=\u001B[39;49m\u001B[43mencoding\u001B[49m\u001B[43m,\u001B[49m\n\u001B[0;32m   3972\u001B[0m \u001B[43m    \u001B[49m\u001B[43merrors\u001B[49m\u001B[38;5;241;43m=\u001B[39;49m\u001B[43merrors\u001B[49m\u001B[43m,\u001B[49m\n\u001B[0;32m   3973\u001B[0m \u001B[43m    \u001B[49m\u001B[43mcompression\u001B[49m\u001B[38;5;241;43m=\u001B[39;49m\u001B[43mcompression\u001B[49m\u001B[43m,\u001B[49m\n\u001B[0;32m   3974\u001B[0m \u001B[43m    \u001B[49m\u001B[43mquoting\u001B[49m\u001B[38;5;241;43m=\u001B[39;49m\u001B[43mquoting\u001B[49m\u001B[43m,\u001B[49m\n\u001B[0;32m   3975\u001B[0m \u001B[43m    \u001B[49m\u001B[43mcolumns\u001B[49m\u001B[38;5;241;43m=\u001B[39;49m\u001B[43mcolumns\u001B[49m\u001B[43m,\u001B[49m\n\u001B[0;32m   3976\u001B[0m \u001B[43m    \u001B[49m\u001B[43mindex_label\u001B[49m\u001B[38;5;241;43m=\u001B[39;49m\u001B[43mindex_label\u001B[49m\u001B[43m,\u001B[49m\n\u001B[0;32m   3977\u001B[0m \u001B[43m    \u001B[49m\u001B[43mmode\u001B[49m\u001B[38;5;241;43m=\u001B[39;49m\u001B[43mmode\u001B[49m\u001B[43m,\u001B[49m\n\u001B[0;32m   3978\u001B[0m \u001B[43m    \u001B[49m\u001B[43mchunksize\u001B[49m\u001B[38;5;241;43m=\u001B[39;49m\u001B[43mchunksize\u001B[49m\u001B[43m,\u001B[49m\n\u001B[0;32m   3979\u001B[0m \u001B[43m    \u001B[49m\u001B[43mquotechar\u001B[49m\u001B[38;5;241;43m=\u001B[39;49m\u001B[43mquotechar\u001B[49m\u001B[43m,\u001B[49m\n\u001B[0;32m   3980\u001B[0m \u001B[43m    \u001B[49m\u001B[43mdate_format\u001B[49m\u001B[38;5;241;43m=\u001B[39;49m\u001B[43mdate_format\u001B[49m\u001B[43m,\u001B[49m\n\u001B[0;32m   3981\u001B[0m \u001B[43m    \u001B[49m\u001B[43mdoublequote\u001B[49m\u001B[38;5;241;43m=\u001B[39;49m\u001B[43mdoublequote\u001B[49m\u001B[43m,\u001B[49m\n\u001B[0;32m   3982\u001B[0m \u001B[43m    \u001B[49m\u001B[43mescapechar\u001B[49m\u001B[38;5;241;43m=\u001B[39;49m\u001B[43mescapechar\u001B[49m\u001B[43m,\u001B[49m\n\u001B[0;32m   3983\u001B[0m \u001B[43m    \u001B[49m\u001B[43mstorage_options\u001B[49m\u001B[38;5;241;43m=\u001B[39;49m\u001B[43mstorage_options\u001B[49m\u001B[43m,\u001B[49m\n\u001B[0;32m   3984\u001B[0m \u001B[43m\u001B[49m\u001B[43m)\u001B[49m\n",
      "File \u001B[1;32m~\\AppData\\Local\\Programs\\Python\\Python312\\Lib\\site-packages\\pandas\\io\\formats\\format.py:1014\u001B[0m, in \u001B[0;36mDataFrameRenderer.to_csv\u001B[1;34m(self, path_or_buf, encoding, sep, columns, index_label, mode, compression, quoting, quotechar, lineterminator, chunksize, date_format, doublequote, escapechar, errors, storage_options)\u001B[0m\n\u001B[0;32m    993\u001B[0m     created_buffer \u001B[38;5;241m=\u001B[39m \u001B[38;5;28;01mFalse\u001B[39;00m\n\u001B[0;32m    995\u001B[0m csv_formatter \u001B[38;5;241m=\u001B[39m CSVFormatter(\n\u001B[0;32m    996\u001B[0m     path_or_buf\u001B[38;5;241m=\u001B[39mpath_or_buf,\n\u001B[0;32m    997\u001B[0m     lineterminator\u001B[38;5;241m=\u001B[39mlineterminator,\n\u001B[1;32m   (...)\u001B[0m\n\u001B[0;32m   1012\u001B[0m     formatter\u001B[38;5;241m=\u001B[39m\u001B[38;5;28mself\u001B[39m\u001B[38;5;241m.\u001B[39mfmt,\n\u001B[0;32m   1013\u001B[0m )\n\u001B[1;32m-> 1014\u001B[0m \u001B[43mcsv_formatter\u001B[49m\u001B[38;5;241;43m.\u001B[39;49m\u001B[43msave\u001B[49m\u001B[43m(\u001B[49m\u001B[43m)\u001B[49m\n\u001B[0;32m   1016\u001B[0m \u001B[38;5;28;01mif\u001B[39;00m created_buffer:\n\u001B[0;32m   1017\u001B[0m     \u001B[38;5;28;01massert\u001B[39;00m \u001B[38;5;28misinstance\u001B[39m(path_or_buf, StringIO)\n",
      "File \u001B[1;32m~\\AppData\\Local\\Programs\\Python\\Python312\\Lib\\site-packages\\pandas\\io\\formats\\csvs.py:251\u001B[0m, in \u001B[0;36mCSVFormatter.save\u001B[1;34m(self)\u001B[0m\n\u001B[0;32m    247\u001B[0m \u001B[38;5;250m\u001B[39m\u001B[38;5;124;03m\"\"\"\u001B[39;00m\n\u001B[0;32m    248\u001B[0m \u001B[38;5;124;03mCreate the writer & save.\u001B[39;00m\n\u001B[0;32m    249\u001B[0m \u001B[38;5;124;03m\"\"\"\u001B[39;00m\n\u001B[0;32m    250\u001B[0m \u001B[38;5;66;03m# apply compression and byte/text conversion\u001B[39;00m\n\u001B[1;32m--> 251\u001B[0m \u001B[38;5;28;01mwith\u001B[39;00m \u001B[43mget_handle\u001B[49m\u001B[43m(\u001B[49m\n\u001B[0;32m    252\u001B[0m \u001B[43m    \u001B[49m\u001B[38;5;28;43mself\u001B[39;49m\u001B[38;5;241;43m.\u001B[39;49m\u001B[43mfilepath_or_buffer\u001B[49m\u001B[43m,\u001B[49m\n\u001B[0;32m    253\u001B[0m \u001B[43m    \u001B[49m\u001B[38;5;28;43mself\u001B[39;49m\u001B[38;5;241;43m.\u001B[39;49m\u001B[43mmode\u001B[49m\u001B[43m,\u001B[49m\n\u001B[0;32m    254\u001B[0m \u001B[43m    \u001B[49m\u001B[43mencoding\u001B[49m\u001B[38;5;241;43m=\u001B[39;49m\u001B[38;5;28;43mself\u001B[39;49m\u001B[38;5;241;43m.\u001B[39;49m\u001B[43mencoding\u001B[49m\u001B[43m,\u001B[49m\n\u001B[0;32m    255\u001B[0m \u001B[43m    \u001B[49m\u001B[43merrors\u001B[49m\u001B[38;5;241;43m=\u001B[39;49m\u001B[38;5;28;43mself\u001B[39;49m\u001B[38;5;241;43m.\u001B[39;49m\u001B[43merrors\u001B[49m\u001B[43m,\u001B[49m\n\u001B[0;32m    256\u001B[0m \u001B[43m    \u001B[49m\u001B[43mcompression\u001B[49m\u001B[38;5;241;43m=\u001B[39;49m\u001B[38;5;28;43mself\u001B[39;49m\u001B[38;5;241;43m.\u001B[39;49m\u001B[43mcompression\u001B[49m\u001B[43m,\u001B[49m\n\u001B[0;32m    257\u001B[0m \u001B[43m    \u001B[49m\u001B[43mstorage_options\u001B[49m\u001B[38;5;241;43m=\u001B[39;49m\u001B[38;5;28;43mself\u001B[39;49m\u001B[38;5;241;43m.\u001B[39;49m\u001B[43mstorage_options\u001B[49m\u001B[43m,\u001B[49m\n\u001B[0;32m    258\u001B[0m \u001B[43m\u001B[49m\u001B[43m)\u001B[49m \u001B[38;5;28;01mas\u001B[39;00m handles:\n\u001B[0;32m    259\u001B[0m     \u001B[38;5;66;03m# Note: self.encoding is irrelevant here\u001B[39;00m\n\u001B[0;32m    260\u001B[0m     \u001B[38;5;28mself\u001B[39m\u001B[38;5;241m.\u001B[39mwriter \u001B[38;5;241m=\u001B[39m csvlib\u001B[38;5;241m.\u001B[39mwriter(\n\u001B[0;32m    261\u001B[0m         handles\u001B[38;5;241m.\u001B[39mhandle,\n\u001B[0;32m    262\u001B[0m         lineterminator\u001B[38;5;241m=\u001B[39m\u001B[38;5;28mself\u001B[39m\u001B[38;5;241m.\u001B[39mlineterminator,\n\u001B[1;32m   (...)\u001B[0m\n\u001B[0;32m    267\u001B[0m         quotechar\u001B[38;5;241m=\u001B[39m\u001B[38;5;28mself\u001B[39m\u001B[38;5;241m.\u001B[39mquotechar,\n\u001B[0;32m    268\u001B[0m     )\n\u001B[0;32m    270\u001B[0m     \u001B[38;5;28mself\u001B[39m\u001B[38;5;241m.\u001B[39m_save()\n",
      "File \u001B[1;32m~\\AppData\\Local\\Programs\\Python\\Python312\\Lib\\site-packages\\pandas\\io\\common.py:873\u001B[0m, in \u001B[0;36mget_handle\u001B[1;34m(path_or_buf, mode, encoding, compression, memory_map, is_text, errors, storage_options)\u001B[0m\n\u001B[0;32m    868\u001B[0m \u001B[38;5;28;01melif\u001B[39;00m \u001B[38;5;28misinstance\u001B[39m(handle, \u001B[38;5;28mstr\u001B[39m):\n\u001B[0;32m    869\u001B[0m     \u001B[38;5;66;03m# Check whether the filename is to be opened in binary mode.\u001B[39;00m\n\u001B[0;32m    870\u001B[0m     \u001B[38;5;66;03m# Binary mode does not support 'encoding' and 'newline'.\u001B[39;00m\n\u001B[0;32m    871\u001B[0m     \u001B[38;5;28;01mif\u001B[39;00m ioargs\u001B[38;5;241m.\u001B[39mencoding \u001B[38;5;129;01mand\u001B[39;00m \u001B[38;5;124m\"\u001B[39m\u001B[38;5;124mb\u001B[39m\u001B[38;5;124m\"\u001B[39m \u001B[38;5;129;01mnot\u001B[39;00m \u001B[38;5;129;01min\u001B[39;00m ioargs\u001B[38;5;241m.\u001B[39mmode:\n\u001B[0;32m    872\u001B[0m         \u001B[38;5;66;03m# Encoding\u001B[39;00m\n\u001B[1;32m--> 873\u001B[0m         handle \u001B[38;5;241m=\u001B[39m \u001B[38;5;28;43mopen\u001B[39;49m\u001B[43m(\u001B[49m\n\u001B[0;32m    874\u001B[0m \u001B[43m            \u001B[49m\u001B[43mhandle\u001B[49m\u001B[43m,\u001B[49m\n\u001B[0;32m    875\u001B[0m \u001B[43m            \u001B[49m\u001B[43mioargs\u001B[49m\u001B[38;5;241;43m.\u001B[39;49m\u001B[43mmode\u001B[49m\u001B[43m,\u001B[49m\n\u001B[0;32m    876\u001B[0m \u001B[43m            \u001B[49m\u001B[43mencoding\u001B[49m\u001B[38;5;241;43m=\u001B[39;49m\u001B[43mioargs\u001B[49m\u001B[38;5;241;43m.\u001B[39;49m\u001B[43mencoding\u001B[49m\u001B[43m,\u001B[49m\n\u001B[0;32m    877\u001B[0m \u001B[43m            \u001B[49m\u001B[43merrors\u001B[49m\u001B[38;5;241;43m=\u001B[39;49m\u001B[43merrors\u001B[49m\u001B[43m,\u001B[49m\n\u001B[0;32m    878\u001B[0m \u001B[43m            \u001B[49m\u001B[43mnewline\u001B[49m\u001B[38;5;241;43m=\u001B[39;49m\u001B[38;5;124;43m\"\u001B[39;49m\u001B[38;5;124;43m\"\u001B[39;49m\u001B[43m,\u001B[49m\n\u001B[0;32m    879\u001B[0m \u001B[43m        \u001B[49m\u001B[43m)\u001B[49m\n\u001B[0;32m    880\u001B[0m     \u001B[38;5;28;01melse\u001B[39;00m:\n\u001B[0;32m    881\u001B[0m         \u001B[38;5;66;03m# Binary mode\u001B[39;00m\n\u001B[0;32m    882\u001B[0m         handle \u001B[38;5;241m=\u001B[39m \u001B[38;5;28mopen\u001B[39m(handle, ioargs\u001B[38;5;241m.\u001B[39mmode)\n",
      "\u001B[1;31mOSError\u001B[0m: [Errno 22] Invalid argument: \"RandomForestClassifier(class_weight='balanced', min_samples_split=5,\\n                       n_estimators=200, random_state=42)_predictions.csv\""
     ]
    }
   ],
   "execution_count": 11
  },
  {
   "cell_type": "markdown",
   "id": "d8e29abed5695341",
   "metadata": {},
   "source": [
    "### 2. Ensemble methods (Stacking)\n",
    "Next lets train three different machine learning models—Gradient Boosting, XGBoost, and a Stacking Classifier—to compare their performances on the given dataset.\n",
    "###### improved accuracy from 80% to 80.36%\n",
    "##### Models\n",
    "\n",
    "1. Gradient Boosting: Trains a Gradient Boosting model with 100 estimators, a learning rate of 0.1, and a maximum depth of 3. The model is evaluated using accuracy and a classification report.\n",
    "\n",
    "Gradient Boosting is an ensemble learning technique that builds multiple decision trees sequentially, with each tree trying to correct the errors of the previous one. It is effective for both classification and regression tasks\n",
    "\n",
    "2. XGBoost: Trains an XGBoost model with similar hyperparameters as the Gradient Boosting model. The performance is also evaluated using accuracy and a classification report.\n",
    "Extreme Gradient Boosting is an optimized version of Gradient Boosting that is designed for speed and performance. It uses advanced regularization techniques to reduce overfitting and is highly efficient in handling large datasets. \n",
    "\n",
    "3. Stacking Classifier: Combines multiple base models (Random Forest, Gradient Boosting, XGBoost) using Stacking. The final estimator is a Logistic Regression model that learns from the predictions of the base models.\n",
    "\n",
    "Stacking is an ensemble learning technique that combines multiple base models to improve overall predictive performance. The idea is to use the predictions of several different models (e.g., Random Forest, Gradient Boosting, XGBoost) as input features for a final estimator (in this case, a Logistic Regression model). This final model learns how to best combine the outputs of the base models, often resulting in better accuracy and generalization compared to using any individual model alone. Stacking benefits from the strengths of each base model, as different algorithms can capture various aspects of the data.\n"
   ]
  },
  {
   "cell_type": "code",
   "id": "67cbff68fcfa289",
   "metadata": {},
   "source": [
    "# 1. Gradient Boosting\n",
    "gb_model = GradientBoostingClassifier(n_estimators=100, learning_rate=0.1, max_depth=3, random_state=42)\n",
    "gb_model.fit(X_train, y_train)\n",
    "y_pred_gb = gb_model.predict(X_test)\n",
    "accuracy_gb = accuracy_score(y_test, y_pred_gb)\n",
    "report_gb = classification_report(y_test, y_pred_gb)\n",
    "prediction_results(model=gb_model)\n",
    "\n",
    "# 2. XGBoost\n",
    "xgb_model = XGBClassifier(n_estimators=100, learning_rate=0.1, max_depth=3, random_state=42, use_label_encoder=False, eval_metric='logloss')\n",
    "xgb_model.fit(X_train, y_train)\n",
    "y_pred_xgb = xgb_model.predict(X_test)\n",
    "accuracy_xgb = accuracy_score(y_test, y_pred_xgb)\n",
    "report_xgb = classification_report(y_test, y_pred_xgb)\n",
    "prediction_results(model=xgb_model)\n",
    "\n",
    "# 3. Stacking Classifier\n",
    "estimators = [\n",
    "    ('rf', RandomForestClassifier(n_estimators=100, random_state=42)),\n",
    "    ('gb', GradientBoostingClassifier(n_estimators=100, random_state=42)),\n",
    "    ('xgb', XGBClassifier(n_estimators=100, random_state=42, use_label_encoder=False, eval_metric='logloss'))\n",
    "]\n",
    "stacking_model = StackingClassifier(estimators=estimators, final_estimator=LogisticRegression(), cv=3)\n",
    "stacking_model.fit(X_train, y_train)\n",
    "y_pred_stack = stacking_model.predict(X_test)\n",
    "accuracy_stack = accuracy_score(y_test, y_pred_stack)\n",
    "report_stack = classification_report(y_test, y_pred_stack)\n",
    "\n",
    "# Results\n",
    "print(\"Gradient Boosting Accuracy:\", accuracy_gb)\n",
    "print(report_gb)\n",
    "print(\"XGBoost Accuracy:\", accuracy_xgb)\n",
    "print(report_xgb)\n",
    "print(\"Stacking Classifier Accuracy:\", accuracy_stack)\n",
    "print(report_stack)\n",
    "\n",
    "prediction_results(model=stacking_model)"
   ],
   "outputs": [],
   "execution_count": null
  }
 ],
 "metadata": {
  "kaggle": {
   "accelerator": "none",
   "dataSources": [
    {
     "databundleVersionId": 3220602,
     "sourceId": 34377,
     "sourceType": "competition"
    }
   ],
   "isGpuEnabled": false,
   "isInternetEnabled": true,
   "language": "python",
   "sourceType": "notebook"
  },
  "kernelspec": {
   "display_name": "Python 3",
   "language": "python",
   "name": "python3"
  },
  "language_info": {
   "codemirror_mode": {
    "name": "ipython",
    "version": 3
   },
   "file_extension": ".py",
   "mimetype": "text/x-python",
   "name": "python",
   "nbconvert_exporter": "python",
   "pygments_lexer": "ipython3",
   "version": "3.10.12"
  },
  "papermill": {
   "default_parameters": {},
   "duration": 5.229832,
   "end_time": "2023-11-15T07:14:47.675245",
   "environment_variables": {},
   "exception": null,
   "input_path": "__notebook__.ipynb",
   "output_path": "__notebook__.ipynb",
   "parameters": {},
   "start_time": "2023-11-15T07:14:42.445413",
   "version": "2.4.0"
  }
 },
 "nbformat": 4,
 "nbformat_minor": 5
}
