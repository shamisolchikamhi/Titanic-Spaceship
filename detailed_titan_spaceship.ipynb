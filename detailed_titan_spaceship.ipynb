{
 "cells": [
  {
   "cell_type": "markdown",
   "id": "5d4d5d86",
   "metadata": {},
   "source": [
    "## The Titanic Spaceship problem \n",
    "\n",
    "### Problem description\n",
    "This machine learning problem involves predicting which passengers were transported to an alternate dimension during a spacetime anomaly involving the Spaceship Titanic. Given historical passenger data recovered from the damaged ship's computer system, the task is to build a classification model that accurately predicts the transport status of each passenger. \n",
    "\n",
    "### Machine Learning Model Evaluation and Results\n",
    "\n",
    "This notebook explores the performance of different machine learning models, including **Random Forest**, **LightGBM**, and a **Stacking Classifier**, on a classification task. The evaluation focuses on train accuracy, test accuracy, Kaggle scores, and confusion matrices to assess model performance.\n",
    "\n",
    "#### Key Results\n",
    "\n",
    "1. **RandomForestClassifier**:\n",
    "   - **Train Accuracy**: 0.98\n",
    "   - **Test Accuracy**: 0.80\n",
    "   - **Kaggle Score**: 0.78466\n",
    "   - Demonstrates high training accuracy but slightly lower test accuracy, indicating possible overfitting.\n",
    "\n",
    "2. **LightGBMClassifier**:\n",
    "   - Optimized with efficient multi-threading and boosting techniques.\n",
    "   - Provides robust performance by leveraging 27 features with balanced handling of positive and negative samples.\n",
    "   - Auto-selects optimal configurations for resource efficiency and model accuracy.\n",
    "\n",
    "3. **StackingClassifier**:\n",
    "   - Combines the strengths of **Random Forest** and **LightGBM** using **Logistic Regression** as the final estimator.\n",
    "   - **Train Accuracy**: 0.94\n",
    "   - **Test Accuracy**: 0.81\n",
    "   - **Kaggle Score**: 0.80757\n",
    "   - Achieves the best test accuracy and Kaggle score, demonstrating improved generalization and reduced overfitting.\n",
    "\n",
    "#### Summary\n",
    "- The **RandomForestClassifier** provides strong individual performance with high training accuracy but shows slight overfitting.\n",
    "- The **LightGBMClassifier** is highly efficient in handling large datasets and delivers balanced accuracy.\n",
    "- The **StackingClassifier** outperforms the individual models, achieving the highest test accuracy and Kaggle score, highlighting the benefits of ensemble learning.\n",
    "\n"
   ]
  },
  {
   "cell_type": "markdown",
   "id": "765b032a",
   "metadata": {},
   "source": [
    "### Packages\n",
    "- **pandas, numpy**: Data manipulation and numerical operations.\n",
    "- **train_test_split**: Splits dataset for training/testing.\n",
    "- **LabelEncoder, StandardScaler**: Converts categorical labels, scales features.\n",
    "- **RandomForestClassifier, GradientBoostingClassifier, XGBClassifier, StackingClassifier**: Ensemble classifiers for prediction.\n",
    "- **LogisticRegression**: Linear classifier.\n",
    "- **matplotlib.pyplot**: Data visualization.\n",
    "- **Keras (Dense, Dropout, BatchNormalization, EarlyStopping, Adam, Sequential)**: Builds and trains neural networks.\n",
    "- **KNNImputer**: Imputes missing values.\n",
    "- **accuracy_score, classification_report**: Evaluates classification metrics.\n",
    "- **GridSearchCV**: Hyperparameter tuning.\n"
   ]
  },
  {
   "cell_type": "code",
   "id": "25ebba22",
   "metadata": {
    "papermill": {
     "duration": 0.002801,
     "end_time": "2023-11-15T07:14:46.413152",
     "exception": false,
     "start_time": "2023-11-15T07:14:46.410351",
     "status": "completed"
    },
    "tags": [],
    "ExecuteTime": {
     "end_time": "2024-11-16T06:45:33.686362Z",
     "start_time": "2024-11-16T06:45:33.660893Z"
    }
   },
   "source": [
    "from lightgbm import LGBMClassifier\n",
    "from catboost import CatBoostClassifier\n",
    "from sklearn.tree import DecisionTreeClassifier\n",
    "import pandas as pd\n",
    "import numpy as np\n",
    "from sklearn.ensemble import RandomForestClassifier,  StackingClassifier\n",
    "from xgboost import XGBClassifier\n",
    "from sklearn.linear_model import LogisticRegression\n",
    "import matplotlib.pyplot as plt\n",
    "import seaborn as sns\n",
    "from sklearn.metrics import confusion_matrix\n",
    "from sklearn.preprocessing import StandardScaler\n",
    "from sklearn.neighbors import KNeighborsClassifier\n",
    "from sklearn.ensemble import AdaBoostClassifier\n",
    "from sklearn.metrics import  make_scorer, f1_score, accuracy_score\n",
    "from sklearn.svm import SVC\n",
    "from sklearn.ensemble import GradientBoostingClassifier\n",
    "from sklearn.preprocessing import LabelEncoder\n",
    "from sklearn.model_selection import train_test_split, GridSearchCV"
   ],
   "outputs": [],
   "execution_count": 27
  },
  {
   "cell_type": "code",
   "id": "2ce5987e",
   "metadata": {
    "_cell_guid": "b1076dfc-b9ad-4769-8c92-a6c4dae69d19",
    "_uuid": "8f2839f25d086af736a60e9eeb907d3b93b6e0e5",
    "execution": {
     "iopub.execute_input": "2023-11-15T07:14:46.419898Z",
     "iopub.status.busy": "2023-11-15T07:14:46.419393Z",
     "iopub.status.idle": "2023-11-15T07:14:46.944806Z",
     "shell.execute_reply": "2023-11-15T07:14:46.942860Z"
    },
    "papermill": {
     "duration": 0.532378,
     "end_time": "2023-11-15T07:14:46.947930",
     "exception": false,
     "start_time": "2023-11-15T07:14:46.415552",
     "status": "completed"
    },
    "tags": [],
    "ExecuteTime": {
     "end_time": "2024-11-16T06:45:33.733806Z",
     "start_time": "2024-11-16T06:45:33.727822Z"
    }
   },
   "source": [
    "# Input data files are available in the read-only \"../input/\" directory\n",
    "# For example, running this (by clicking run or pressing Shift+Enter) will list all files under the input directory\n",
    "\n",
    "import os\n",
    "for dirname, _, filenames in os.walk('/kaggle/input'):\n",
    "    for filename in filenames:\n",
    "        print(os.path.join(dirname, filename))\n",
    "\n",
    "# You can write up to 20GB to the current directory (/kaggle/working/) that gets preserved as output when you create a version using \"Save & Run All\" \n",
    "# You can also write temporary files to /kaggle/temp/, but they won't be saved outside of the current session"
   ],
   "outputs": [],
   "execution_count": 28
  },
  {
   "cell_type": "markdown",
   "id": "2e890bb2446a84e6",
   "metadata": {},
   "source": [
    "### Explore data\n",
    "The functions here help in preparing and analyzing a dataset, which are crucial steps in solving a machine learning problem effectively:\n",
    "\n",
    "##### 1. Balance of the target varible \n",
    "This function checks the balance of the target variable in the dataset.\n",
    " A balanced target variable is important for classifictaion machine learning models to perform well. If the target is imbalanced, it may lead to biased predictions, and additional techniques like resampling or adjusting class weights may be needed. Fortunately, this data set has a good balance of the target variable\n",
    "\n",
    "##### 2. Check for and fill missing values\n",
    "This functions checks for missing values in the dataset. It uses `isnull().sum()` to calculate the number of missing values in each column and returns only those columns with missing values greater than zero. This is useful for identifying columns that need imputation or cleaning. Missing values can significantly affect the performance of machine learning models.\n",
    "- **Categorical Columns**: Fills missing values with the most common value (`mode`) for columns like `HomePlanet`, `CryoSleep`, etc.\n",
    "- **Numerical Columns**: Fills missing values with the median for columns like `Age`, `RoomService`, etc.\n",
    "\n",
    "Identifying columns with missing values allows for proper handling, ensuring the model is trained on complete and accurate data, which reduces the risk of biased or erroneous predictions. Filling categorical columns with the mode and numerical columns with the median helps preserve the distribution of data and reduces the likelihood of introducing bias. This ensures that the dataset is complete, which helps the model generalize better and produce more accurate predictions.\n"
   ]
  },
  {
   "cell_type": "code",
   "id": "74a950d3cd73d58b",
   "metadata": {
    "ExecuteTime": {
     "end_time": "2024-11-16T06:45:33.757450Z",
     "start_time": "2024-11-16T06:45:33.745773Z"
    }
   },
   "source": [
    "def check_target_balance(data, target_column):\n",
    "    \"\"\"\n",
    "    Check the balance of the target variable.\n",
    "    \"\"\"\n",
    "    target_balance = data[target_column].value_counts(normalize=True)\n",
    "    return target_balance\n",
    "\n",
    "def check_missing_values(data):\n",
    "    \"\"\"\n",
    "    Check for missing values in the dataset.\n",
    "    \"\"\"\n",
    "    missing_values = data.isnull().sum()\n",
    "    return missing_values[missing_values > 0]\n",
    "\n",
    "def fill_missing_values(df):\n",
    "    df.fillna({\n",
    "        \"CryoSleep\": df[\"CryoSleep\"].mode()[0],\n",
    "        \"Cabin\": \"np.nan/np.nan/np.nan\",\n",
    "        \"Age\": df[\"Age\"].median(),\n",
    "        \"HomePlanet\": df[\"HomePlanet\"].mode()[0],\n",
    "        \"Destination\": df[\"Destination\"].mode()[0]\n",
    "    }, inplace=True)\n",
    "    return df"
   ],
   "outputs": [],
   "execution_count": 29
  },
  {
   "cell_type": "markdown",
   "id": "192464ca912e4f00",
   "metadata": {},
   "source": [
    "### KNN imputing\n",
    "Attempting to use  K-Nearest Neighbors (KNN) Imputation to fill missing values in a dataset. This method is more advanced than using mean, median, or mode. (didn`t end up using this)\n",
    "##### How It Works\n",
    "Encode Categorical Variables: Categorical columns are temporarily encoded into numbers.\n",
    "KNN Imputation: KNNImputer fills missing values based on similar data points (n_neighbors=5).\n",
    "Reverse Encoding: Categorical columns are decoded back to their original labels.\n",
    "##### Advantages\n",
    "More Accurate: Uses data similarity for better estimates compared to simple imputation.\n",
    "Handles Mixed Data: Works for both categorical and numerical columns.\n",
    "Maintains Relationships: Preserves relationships between features, improving model consistency.\n",
    "\n",
    "Here is more details on KNN imputation (: , https://medium.com/@kyawsawhtoon/a-guide-to-knn-imputation-95e2dc496e."
   ]
  },
  {
   "cell_type": "code",
   "id": "aab2f3b86b315add",
   "metadata": {
    "ExecuteTime": {
     "end_time": "2024-11-16T06:45:33.764636Z",
     "start_time": "2024-11-16T06:45:33.759446Z"
    }
   },
   "source": [
    "  # def fill_missing_values_with_knn(data, categorical_columns, n_neighbors=5):\n",
    "#     \"\"\"\n",
    "#     Impute missing values for both categorical and numerical variables using KNN Imputation.\n",
    "#     \n",
    "#     Parameters:\n",
    "#     - data: The dataframe with missing values.\n",
    "#     - categorical_columns: List of categorical column names.\n",
    "#     - n_neighbors: Number of neighbors to use for KNN imputation (default is 5).\n",
    "#     \n",
    "#     Returns:\n",
    "#     - data: The dataframe with imputed missing values.\n",
    "#     \"\"\"\n",
    "#     # Create a copy of the data to avoid altering the original dataset\n",
    "#     data_copy = data.copy()\n",
    "# \n",
    "#     # Temporarily encode categorical variables using LabelEncoder\n",
    "#     label_encoders = {}\n",
    "#     for col in categorical_columns:\n",
    "#         le = LabelEncoder()\n",
    "#         data_copy[col] = le.fit_transform(data_copy[col].astype(str))\n",
    "#         label_encoders[col] = le\n",
    "# \n",
    "#     # Apply KNNImputer for both categorical and numerical columns\n",
    "#     knn_imputer = KNNImputer(n_neighbors=n_neighbors)\n",
    "#     imputed_data = pd.DataFrame(knn_imputer.fit_transform(data_copy), columns=data_copy.columns)\n",
    "# \n",
    "#     # Reverse the encoding for categorical variables\n",
    "#     for col in categorical_columns:\n",
    "#         imputed_data[col] = imputed_data[col].round().astype(int)\n",
    "#         imputed_data[col] = label_encoders[col].inverse_transform(imputed_data[col])\n",
    "# \n",
    "#     return imputed_data"
   ],
   "outputs": [],
   "execution_count": 30
  },
  {
   "cell_type": "markdown",
   "id": "140581e8ef859a75",
   "metadata": {},
   "source": [
    "### Standadise data\n",
    "The standardize_numerical_columns function standardizes numerical columns in a dataset using z-score normalization. This process ensures that each numerical column has a mean of 0 and a standard deviation of 1, which is beneficial for many machine learning models that perform better when features are on a similar scale.\n",
    "##### How It Works\n",
    "Select Numerical Columns: The function standardizes columns such as Age, RoomService, FoodCourt, etc.\\\n",
    "Data Copy: A copy of the original dataset is created to avoid modifying the original data.\n",
    "Standard Scaling: The function uses StandardScaler from scikit-learn to transform the numerical columns to a standardized scale.\n",
    "##### Advantages\n",
    "Improves Model Performance: Many machine learning algorithms, such as gradient descent-based models, work better when features are on a similar scale.\n",
    "Handles Outliers: Z-score normalization reduces the impact of outliers, making the model more stable."
   ]
  },
  {
   "cell_type": "code",
   "id": "9116a887d9ad0af5",
   "metadata": {
    "ExecuteTime": {
     "end_time": "2024-11-16T06:45:33.777120Z",
     "start_time": "2024-11-16T06:45:33.769620Z"
    }
   },
   "source": [
    "def scale_data(train_data, test_data):\n",
    "    # Select only numeric columns for scaling\n",
    "    numeric_cols = train_data.select_dtypes(include=[np.number]).columns\n",
    "    scaler = StandardScaler()\n",
    "    train_data[numeric_cols] = scaler.fit_transform(train_data[numeric_cols])\n",
    "    test_data[numeric_cols] = scaler.transform(test_data[numeric_cols])\n",
    "    return train_data, test_data"
   ],
   "outputs": [],
   "execution_count": 31
  },
  {
   "cell_type": "markdown",
   "id": "7653e5528c993f14",
   "metadata": {},
   "source": [
    "### Feature Engineering\n",
    "The feature_engineering function performs transformations on the dataset to create new features and enhance existing ones. Feature engineering is crucial for improving the predictive power of machine learning models.\n",
    "\n",
    "##### Key Transformations\n",
    "1. Group and Travel Features: Creates Group, Group_Size, and Travelling_Solo features to capture group dynamics.\n",
    "2. Cabin Details: Splits Cabin into Cabin_Deck, Cabin_Number, and Cabin_Side for detailed cabin information.\n",
    "3. Expenditure Features: Aggregates spending into Total_Expenditure, flags No_Spending, and categorizes expenditures into levels.\n",
    "4. Age Grouping: Categorizes Age into bins like 0-12, 13-18, etc., for better age-based patterns.\n",
    "5. Name Parsing: Splits Name into FirstName and Surname for granular details.\n",
    "##### Advantages\n",
    "1. Enhanced Model Features: These transformations help machine learning models identify underlying relationships better by providing new and more informative features.\n",
    "2. Improved Interpretability: Features like AgeGroup and TotalSpend improve interpretability by categorizing continuous data and summarizing spending behavior."
   ]
  },
  {
   "cell_type": "code",
   "id": "459412624132ac1b",
   "metadata": {
    "ExecuteTime": {
     "end_time": "2024-11-16T06:45:33.839083Z",
     "start_time": "2024-11-16T06:45:33.822077Z"
    }
   },
   "source": [
    "def check_cadinality(train_df, test_df):\n",
    "    print(\"cardinality of categorical features in training datasets is:\")\n",
    "    print(train_df.select_dtypes(include=\"object\").nunique())\n",
    "    print(\"\\n\",\"-\"*70)\n",
    "    print(\"\\nCardinality of categorical features in testing datsets is:\")\n",
    "    print(test_df.select_dtypes(include=\"object\").nunique())\n",
    "\n",
    "def feature_engineering(df):\n",
    "    df[\"Group\"] = df[\"PassengerId\"].apply(lambda x: x.split(\"_\")[0])\n",
    "    df[\"Group_Size\"] = df.groupby(\"Group\")[\"PassengerId\"].transform(\"count\")\n",
    "    df[\"Travelling_Solo\"] = df[\"Group_Size\"] == 1\n",
    "    df[\"Cabin_Deck\"] = df[\"Cabin\"].apply(lambda x: x.split(\"/\")[0])\n",
    "    df[\"Cabin_Number\"] = df[\"Cabin\"].apply(lambda x: x.split(\"/\")[1]).fillna(df[\"Cabin\"].mode()[0])\n",
    "    df[\"Cabin_Side\"] = df[\"Cabin\"].apply(lambda x: x.split(\"/\")[2])\n",
    "    df[\"Total_Expenditure\"] = df[[\"RoomService\", \"FoodCourt\", \"ShoppingMall\", \"Spa\", \"VRDeck\"]].sum(axis=1)\n",
    "    df[\"No_Spending\"] = df[\"Total_Expenditure\"] == 0\n",
    "    df[\"Expenditure_Category\"] = pd.cut(df[\"Total_Expenditure\"], bins=[-1, 0, 716, 1441, np.inf],\n",
    "                                        labels=[\"No Expense\", \"Low\", \"Medium\", \"High\"])\n",
    "    df[\"Age_Group\"] = pd.cut(df[\"Age\"], bins=[0, 12, 18, 25, 32, 50, np.inf],\n",
    "                             labels=[\"0-12\", \"13-18\", \"19-25\", \"26-32\", \"33-50\", \"50+\"])\n",
    "    \n",
    "    # Ensure 'Name' column contains strings and handle missing values\n",
    "    df['Name'] = df['Name'].astype(str).fillna('Unknown Unknown')\n",
    "    \n",
    "    # Split 'Name' into 'FirstName' and 'Surname'\n",
    "    name_split = df['Name'].str.split(' ', n=1, expand=True)\n",
    "    df['FirstName'] = name_split[0]\n",
    "    df['Surname'] = name_split[1].fillna('Unknown')\n",
    "    \n",
    "    return df.drop([\"Cabin\", \"PassengerId\"], axis=1)"
   ],
   "outputs": [],
   "execution_count": 32
  },
  {
   "cell_type": "markdown",
   "id": "d2fa06557cf65c25",
   "metadata": {},
   "source": [
    "### Categorical variables encoding\n",
    "The encode_categorical_features function encodes categorical columns in the dataset using LabelEncoder. This step is essential to convert categorical data into numerical values, which are required by many machine learning models.\n",
    "\n",
    "##### How It Works\n",
    "LabelEncoder: The function uses LabelEncoder from scikit-learn to transform categorical features into numerical labels. Each unique category in a column is assigned a unique integer.\n",
    "Columns Encoded: Columns like HomePlanet, CryoSleep, Destination, and others are encoded to prepare them for modeling.\n",
    "##### Advantages\n",
    "Model Compatibility: Many machine learning algorithms, such as decision trees and linear models, require numerical input. Encoding categorical features allows these models to effectively use the dataset.\n",
    "Handles Multiple Categories: Label encoding is a straightforward way to handle multiple categorical variables without introducing high-dimensional feature sets like one-hot encoding.\n",
    "\n"
   ]
  },
  {
   "cell_type": "code",
   "id": "8400848cc5e27f9d",
   "metadata": {
    "ExecuteTime": {
     "end_time": "2024-11-16T06:45:33.862018Z",
     "start_time": "2024-11-16T06:45:33.855037Z"
    }
   },
   "source": [
    "def encode_features(df, encoder=None):\n",
    "    label_enc_cols = df.select_dtypes(include=[\"object\",\"bool\", \"category\"]).columns.tolist()\n",
    "    df[label_enc_cols] = df[label_enc_cols].apply(\n",
    "        lambda col: encoder.fit_transform(col) if encoder else LabelEncoder().fit_transform(col))\n",
    "    df = pd.get_dummies(df, columns=[\"HomePlanet\", \"Destination\"])\n",
    "    return df, encoder"
   ],
   "outputs": [],
   "execution_count": 33
  },
  {
   "cell_type": "markdown",
   "id": "e3a803ef4d1343ef",
   "metadata": {},
   "source": [
    "### Preprocess data \n",
    "Finally, we  perform the entire data preprocessing pipeline, preparing the dataset for machine learning using the funtions desribed above. \n",
    "\n",
    "##### Steps in the Preprocessing Pipeline\n",
    "1. Fill Missing Values\n",
    "2. Feature Engineering\n",
    "3. Standardize Numerical Columns\n",
    "4. Encode Categorical Variables\n",
    "5. Check Target Variable Balance"
   ]
  },
  {
   "cell_type": "code",
   "id": "92c8e97290e957a8",
   "metadata": {
    "collapsed": false,
    "ExecuteTime": {
     "end_time": "2024-11-16T06:45:33.938488Z",
     "start_time": "2024-11-16T06:45:33.931415Z"
    }
   },
   "source": [
    "def preprocess_data(train_df, test_df, target_column='Transported'):\n",
    "    \"\"\"\n",
    "    Perform the full preprocessing pipeline on the dataset.\n",
    "    \"\"\"\n",
    "    print(\"train_df missing values: \", check_target_balance(train_df, target_column))\n",
    "    print(\"Target value balance \", check_target_balance(train_df, target_column))\n",
    "    train_df, test_df = fill_missing_values(train_df), fill_missing_values(test_df)\n",
    "    \n",
    "    print(\"Cardinality: \", check_cadinality(train_df, test_df))\n",
    "    train_df, test_df = feature_engineering(train_df), feature_engineering(test_df)\n",
    "    train_df, encoder = encode_features(train_df)\n",
    "    test_df, _ = encode_features(test_df, encoder=encoder)\n",
    "\n",
    "    return train_df, test_df\n"
   ],
   "outputs": [],
   "execution_count": 34
  },
  {
   "metadata": {},
   "cell_type": "markdown",
   "source": [
    "### Evaluating model\n",
    "The models will be evaluated as follows:\n",
    "\n",
    "##### Classification Report: \n",
    "The classification_report() function generates metrics like precision, recall, and F1-score for each class, helping assess false positives and false negatives, especially for imbalanced datasets.\n",
    "1. Precision: Measures how many predicted positives are true positives.\n",
    "2. Recall: Measures how many actual positives are captured.\n",
    "3. F1-score: Balances precision and recall.\n",
    "\n",
    "##### Confusion Matrix:\n",
    "This is a visualisation that helps identify which classes are being confused, making it easier to spot areas of weakness in the model.\n",
    "\n",
    "Metrics like precision, recall, and F1-score provide insights into different types of errors, guiding improvements.Error Analysis: The confusion matrix helps understand class biases and errors, providing insights for refining the model."
   ],
   "id": "3fcbcdbcf2301e1b"
  },
  {
   "metadata": {
    "ExecuteTime": {
     "end_time": "2024-11-16T06:45:33.973901Z",
     "start_time": "2024-11-16T06:45:33.966409Z"
    }
   },
   "cell_type": "code",
   "source": [
    "def evaluate_model(model, X_train, X_test, y_train, y_test):\n",
    "    model.fit(X_train, y_train)\n",
    "    y_pred_train = model.predict(X_train)\n",
    "    y_pred_test = model.predict(X_test)\n",
    "    train_acc = accuracy_score(y_train, y_pred_train)\n",
    "    test_acc = accuracy_score(y_test, y_pred_test)\n",
    "    print(f\"{model.__class__.__name__} - Train Accuracy: {train_acc:.2f}, Test Accuracy: {test_acc:.2f}\")\n",
    "    cm = confusion_matrix(y_test, y_pred_test)\n",
    "    print(\"Confusion Matrix:\\n\", cm)\n",
    "\n",
    "    # Visualize confusion matrix\n",
    "    plt.figure(figsize=(8, 6))\n",
    "    sns.heatmap(cm, annot=True, fmt='d', cmap='Blues', xticklabels=np.unique(y_test), yticklabels=np.unique(y_test))\n",
    "    plt.xlabel('Predicted Label')\n",
    "    plt.ylabel('True Label')\n",
    "    plt.title('Confusion Matrix')\n",
    "    plt.show()\n",
    "    \n",
    "    return test_acc"
   ],
   "id": "e1ad7e499d4b79a3",
   "outputs": [],
   "execution_count": 35
  },
  {
   "metadata": {},
   "cell_type": "markdown",
   "source": [
    "### Predictions\n",
    "The prediction_results function processes a dataset, makes predictions using a trained model, and saves the results to a CSV file.\n",
    "\n",
    "##### Steps\n",
    "\n",
    "1. Load Dataset: Reads the dataset and initializes the Transported column as False.\n",
    "2. Preprocess Data: Applies all preprocessing steps using preprocess_data.\n",
    "3. Drop Unnecessary Columns: Keeps only the relevant input features for prediction.\n",
    "4. Make Predictions: Uses the model to predict outcomes.\n",
    "5. Format Predictions: Converts numerical predictions to 'True' or 'False' based on a threshold.\n",
    "6. Save Results: Saves PassengerId and predictions to a CSV file."
   ],
   "id": "ea55df2abeeddc51"
  },
  {
   "metadata": {
    "ExecuteTime": {
     "end_time": "2024-11-16T06:45:34.019873Z",
     "start_time": "2024-11-16T06:45:34.013794Z"
    }
   },
   "cell_type": "code",
   "source": [
    "def prediction_results(model, test_data, passenger_ids):\n",
    "    \"\"\"\n",
    "    Process the dataset, make predictions using the provided model, and save the results to a CSV file.\n",
    "    \n",
    "    Parameters:\n",
    "    - data_path: Path to the dataset to be processed.\n",
    "    - model: Trained machine learning model to use for predictions.\n",
    "    - output_path: Path to save the prediction results.\n",
    "    \"\"\"\n",
    "    # Load the dataset\n",
    "    output_path=f'{type(model).__name__}_predictions.csv'\n",
    "    predictions = model.predict(test_data)\n",
    "    \n",
    "    # Ensure predictions are a 2D array\n",
    "    if predictions.ndim == 1:\n",
    "        predictions = predictions.reshape(-1, 1)\n",
    "    \n",
    "    # Convert float predictions to 'True' or 'False' if needed\n",
    "    if predictions.dtype == np.float32 or predictions.dtype == np.float64 \\\n",
    "             or predictions.dtype == np.int64  or predictions.dtype == np.int32:\n",
    "        predictions = np.where(predictions > 0.5, 'True', 'False')\n",
    "    # Create a DataFrame with PassengerId and Transported predictions\n",
    "    output = pd.DataFrame({'PassengerId': passenger_ids, 'Transported': predictions.flatten()})\n",
    "    output.to_csv(output_path, index=False)"
   ],
   "id": "f15ef8d57c51bcff",
   "outputs": [],
   "execution_count": 36
  },
  {
   "metadata": {},
   "cell_type": "markdown",
   "source": [
    "### Lets get startred !\n",
    "Prepare and split the dataset for training a machine learning model.\n",
    "##### Steps\n",
    "1. Load Data: Loads and previews the dataset.\n",
    "2. Check & Preprocess: Handles missing values, feature engineering, and encoding.\n",
    "3. Split Data: Splits into features (X) and target (y) and performs a train-test split (80/20)."
   ],
   "id": "3d845ad33fb3a0ba"
  },
  {
   "cell_type": "code",
   "id": "31cdb07b70015b62",
   "metadata": {
    "ExecuteTime": {
     "end_time": "2024-11-16T06:45:34.478227Z",
     "start_time": "2024-11-16T06:45:34.058766Z"
    }
   },
   "source": [
    "train_data = pd.read_csv('train.csv', dtype={'PassengerId': 'object'})\n",
    "test_data = pd.read_csv('test.csv', dtype={'PassengerId': 'object'})\n",
    "train_data.head()\n",
    "passenger_ids = test_data['PassengerId']\n",
    "train_data, test_data = preprocess_data(train_df=train_data, test_df =test_data)\n",
    "\n",
    "target = 'Transported'\n",
    "X = train_data.drop(columns=[target])\n",
    "y = train_data[target].replace({True: 1, False: 0})\n",
    "\n",
    "X, test_data = scale_data(X, test_data)\n",
    " # Convert True/False columns to 0/1\n",
    "bool_cols = X.select_dtypes(include=\"bool\").columns\n",
    "X[bool_cols] = X[bool_cols].astype(int)\n",
    "test_data[bool_cols] = test_data[bool_cols].astype(int)\n",
    "X_train, X_test, y_train, y_test = train_test_split(X, y, test_size=0.2, random_state=0)"
   ],
   "outputs": [
    {
     "name": "stdout",
     "output_type": "stream",
     "text": [
      "train_df missing values:  Transported\n",
      "True     0.503624\n",
      "False    0.496376\n",
      "Name: proportion, dtype: float64\n",
      "Target value balance  Transported\n",
      "True     0.503624\n",
      "False    0.496376\n",
      "Name: proportion, dtype: float64\n",
      "cardinality of categorical features in training datasets is:\n",
      "PassengerId    8693\n",
      "HomePlanet        3\n",
      "Cabin          6561\n",
      "Destination       3\n",
      "VIP               2\n",
      "Name           8473\n",
      "dtype: int64\n",
      "\n",
      " ----------------------------------------------------------------------\n",
      "\n",
      "Cardinality of categorical features in testing datsets is:\n",
      "PassengerId    4277\n",
      "HomePlanet        3\n",
      "Cabin          3266\n",
      "Destination       3\n",
      "VIP               2\n",
      "Name           4176\n",
      "dtype: int64\n",
      "Cardinality:  None\n"
     ]
    },
    {
     "name": "stderr",
     "output_type": "stream",
     "text": [
      "C:\\Users\\shami\\AppData\\Local\\Temp\\ipykernel_16812\\3454904795.py:16: FutureWarning: Downcasting object dtype arrays on .fillna, .ffill, .bfill is deprecated and will change in a future version. Call result.infer_objects(copy=False) instead. To opt-in to the future behavior, set `pd.set_option('future.no_silent_downcasting', True)`\n",
      "  df.fillna({\n",
      "C:\\Users\\shami\\AppData\\Local\\Temp\\ipykernel_16812\\3454904795.py:16: FutureWarning: Downcasting object dtype arrays on .fillna, .ffill, .bfill is deprecated and will change in a future version. Call result.infer_objects(copy=False) instead. To opt-in to the future behavior, set `pd.set_option('future.no_silent_downcasting', True)`\n",
      "  df.fillna({\n"
     ]
    }
   ],
   "execution_count": 37
  },
  {
   "cell_type": "markdown",
   "id": "f12d5774a9db8b62",
   "metadata": {},
   "source": "# Models"
  },
  {
   "cell_type": "markdown",
   "id": "eae52bea",
   "metadata": {},
   "source": [
    "### 1. Random Forrest\n",
    "The first model atteted here is thet Random Forest, an ensemble learning method that combines multiple decision trees to improve prediction accuracy and control overfitting. Each tree is built on a different subset of data, and the final prediction is determined by averaging (for regression) or voting (for classification) the results from all trees. The model is well-suited for handling both classification and regression tasks and can manage high-dimensional datasets effectively.\n",
    "###### 81% accuracy\n",
    "##### Steps\n",
    "\n",
    "1. Define Parameter Grid: Specifies a range of values for key hyperparameters such as n_estimators, max_depth, min_samples_split, etc., to optimize the model using GridSearchCV.\n",
    "2. Set up and Run GridSearchCV: Uses GridSearchCV to find the best parameters for the Random Forest model through cross-validation (cv=5), optimizing for accuracy.\n",
    "3. Evaluate Best Model: Fits the best model to the test data and evaluates it using accuracy and a classification report.\n",
    "4. Feature Importance: Extracts and plots feature importance to understand the most impactful features on model predictions. This was important for me to choose the best and significant features for the other models. "
   ]
  },
  {
   "cell_type": "code",
   "id": "1875957eb247e066",
   "metadata": {
    "ExecuteTime": {
     "end_time": "2024-11-16T06:54:45.603743Z",
     "start_time": "2024-11-16T06:45:34.480216Z"
    }
   },
   "source": [
    "# Define the parameter grid for RandomForest\n",
    "param_grid = {\n",
    "    'n_estimators': [50, 100, 200],\n",
    "    'max_depth': [None, 10, 20, 30],\n",
    "    'min_samples_split': [2, 5, 10],\n",
    "    'min_samples_leaf': [1, 2, 4],\n",
    "    'max_features': ['auto', 'sqrt', 'log2']\n",
    "}\n",
    "scoring = {'accuracy': make_scorer(accuracy_score), 'f1': make_scorer(f1_score)}\n",
    "rf = RandomForestClassifier(random_state=42, class_weight='balanced')\n",
    "# Set up GridSearchCV\n",
    "grid_search = GridSearchCV(estimator=rf, param_grid=param_grid, cv=5, n_jobs=-1, verbose=2,  scoring=scoring, refit='f1')\n",
    "\n",
    "# Fit GridSearchCV to find the best parameters\n",
    "grid_search.fit(X_train, y_train)\n",
    "\n",
    "# Get the best parameters and best estimator\n",
    "best_params = grid_search.best_params_\n",
    "random_forrest = grid_search.best_estimator_\n",
    "\n",
    "y_pred_best = random_forrest.predict(X_test)\n",
    "evaluate_model(model = random_forrest, X_test = X_test, y_test = y_test, y_train=y_train, X_train = X_train)\n",
    "\n",
    "# feature importance \n",
    "# Extract feature importances\n",
    "importances = random_forrest.feature_importances_\n",
    "feature_importances = pd.DataFrame({\n",
    "    'Feature': X_train.columns.tolist(),\n",
    "    'Importance': importances\n",
    "}).sort_values(by='Importance', ascending=False)\n",
    "\n",
    "# Plot the feature importances\n",
    "plt.figure(figsize=(10, 6))\n",
    "plt.barh(feature_importances['Feature'], feature_importances['Importance'], color='skyblue')\n",
    "plt.xlabel('Importance')\n",
    "plt.ylabel('Feature')\n",
    "plt.title('Random Forest Feature Importance')\n",
    "plt.gca().invert_yaxis()  # Invert y-axis to show the most important feature on top\n",
    "plt.show()\n",
    "\n",
    "prediction_results(model=random_forrest, test_data = test_data, passenger_ids=passenger_ids)"
   ],
   "outputs": [
    {
     "name": "stdout",
     "output_type": "stream",
     "text": [
      "Fitting 5 folds for each of 324 candidates, totalling 1620 fits\n"
     ]
    },
    {
     "name": "stderr",
     "output_type": "stream",
     "text": [
      "C:\\Users\\shami\\AppData\\Local\\Programs\\Python\\Python312\\Lib\\site-packages\\sklearn\\model_selection\\_validation.py:540: FitFailedWarning: \n",
      "540 fits failed out of a total of 1620.\n",
      "The score on these train-test partitions for these parameters will be set to nan.\n",
      "If these failures are not expected, you can try to debug them by setting error_score='raise'.\n",
      "\n",
      "Below are more details about the failures:\n",
      "--------------------------------------------------------------------------------\n",
      "430 fits failed with the following error:\n",
      "Traceback (most recent call last):\n",
      "  File \"C:\\Users\\shami\\AppData\\Local\\Programs\\Python\\Python312\\Lib\\site-packages\\sklearn\\model_selection\\_validation.py\", line 888, in _fit_and_score\n",
      "    estimator.fit(X_train, y_train, **fit_params)\n",
      "  File \"C:\\Users\\shami\\AppData\\Local\\Programs\\Python\\Python312\\Lib\\site-packages\\sklearn\\base.py\", line 1466, in wrapper\n",
      "    estimator._validate_params()\n",
      "  File \"C:\\Users\\shami\\AppData\\Local\\Programs\\Python\\Python312\\Lib\\site-packages\\sklearn\\base.py\", line 666, in _validate_params\n",
      "    validate_parameter_constraints(\n",
      "  File \"C:\\Users\\shami\\AppData\\Local\\Programs\\Python\\Python312\\Lib\\site-packages\\sklearn\\utils\\_param_validation.py\", line 95, in validate_parameter_constraints\n",
      "    raise InvalidParameterError(\n",
      "sklearn.utils._param_validation.InvalidParameterError: The 'max_features' parameter of RandomForestClassifier must be an int in the range [1, inf), a float in the range (0.0, 1.0], a str among {'sqrt', 'log2'} or None. Got 'auto' instead.\n",
      "\n",
      "--------------------------------------------------------------------------------\n",
      "110 fits failed with the following error:\n",
      "Traceback (most recent call last):\n",
      "  File \"C:\\Users\\shami\\AppData\\Local\\Programs\\Python\\Python312\\Lib\\site-packages\\sklearn\\model_selection\\_validation.py\", line 888, in _fit_and_score\n",
      "    estimator.fit(X_train, y_train, **fit_params)\n",
      "  File \"C:\\Users\\shami\\AppData\\Local\\Programs\\Python\\Python312\\Lib\\site-packages\\sklearn\\base.py\", line 1466, in wrapper\n",
      "    estimator._validate_params()\n",
      "  File \"C:\\Users\\shami\\AppData\\Local\\Programs\\Python\\Python312\\Lib\\site-packages\\sklearn\\base.py\", line 666, in _validate_params\n",
      "    validate_parameter_constraints(\n",
      "  File \"C:\\Users\\shami\\AppData\\Local\\Programs\\Python\\Python312\\Lib\\site-packages\\sklearn\\utils\\_param_validation.py\", line 95, in validate_parameter_constraints\n",
      "    raise InvalidParameterError(\n",
      "sklearn.utils._param_validation.InvalidParameterError: The 'max_features' parameter of RandomForestClassifier must be an int in the range [1, inf), a float in the range (0.0, 1.0], a str among {'log2', 'sqrt'} or None. Got 'auto' instead.\n",
      "\n",
      "  warnings.warn(some_fits_failed_message, FitFailedWarning)\n",
      "C:\\Users\\shami\\AppData\\Local\\Programs\\Python\\Python312\\Lib\\site-packages\\sklearn\\model_selection\\_search.py:1052: UserWarning: One or more of the test scores are non-finite: [       nan        nan        nan        nan        nan        nan\n",
      "        nan        nan        nan        nan        nan        nan\n",
      "        nan        nan        nan        nan        nan        nan\n",
      "        nan        nan        nan        nan        nan        nan\n",
      "        nan        nan        nan 0.79479521 0.79508205 0.7979583\n",
      " 0.79191865 0.79608894 0.79767126 0.79853302 0.79709479 0.79810198\n",
      " 0.80198501 0.79939736 0.80040342 0.79364455 0.79508257 0.79795841\n",
      " 0.79982674 0.79781411 0.79824607 0.7946504  0.79853281 0.79623282\n",
      " 0.7946504  0.79853281 0.79623282 0.79220611 0.79393201 0.79738318\n",
      " 0.79091177 0.79393097 0.79838923 0.79350077 0.79421968 0.79508278\n",
      " 0.79220715 0.79537075 0.79608883 0.79177518 0.79537096 0.79608945\n",
      " 0.79206306 0.79421947 0.79623355 0.79306922 0.79738349 0.79824618\n",
      " 0.79206285 0.7949392  0.79493931 0.79206285 0.7949392  0.79493931\n",
      " 0.79508319 0.7956578  0.79795851        nan        nan        nan\n",
      "        nan        nan        nan        nan        nan        nan\n",
      "        nan        nan        nan        nan        nan        nan\n",
      "        nan        nan        nan        nan        nan        nan\n",
      "        nan        nan        nan        nan        nan        nan\n",
      " 0.79838954 0.79925192 0.79910845 0.79752737 0.79738328 0.79637567\n",
      " 0.79608873 0.79479459 0.79738297 0.79565832 0.7981025  0.79652101\n",
      " 0.79551371 0.79436284 0.79508185 0.79465154 0.79695163 0.7970952\n",
      " 0.7933573  0.79450682 0.79637681 0.7933573  0.79450682 0.79637681\n",
      " 0.79421988 0.7947949  0.79680805 0.79278217 0.79292533 0.79306849\n",
      " 0.79033644 0.79263787 0.79350015 0.79407631 0.79292575 0.79321269\n",
      " 0.79436356 0.79493879 0.79321269 0.79163161 0.79134343 0.79321279\n",
      " 0.79364538 0.79321331 0.79292523 0.79450786 0.7940761  0.79321331\n",
      " 0.79450786 0.7940761  0.79321331 0.79393211 0.79306994 0.79321331\n",
      "        nan        nan        nan        nan        nan        nan\n",
      "        nan        nan        nan        nan        nan        nan\n",
      "        nan        nan        nan        nan        nan        nan\n",
      "        nan        nan        nan        nan        nan        nan\n",
      "        nan        nan        nan 0.79163202 0.79795861 0.79824566\n",
      " 0.79364455 0.7956577  0.79450724 0.79652049 0.79724012 0.79925254\n",
      " 0.80069046 0.80054627 0.79824576 0.79048074 0.79263767 0.79364434\n",
      " 0.79436222 0.79953969 0.79867762 0.79666303 0.79594474 0.79810219\n",
      " 0.79666303 0.79594474 0.79810219 0.79263746 0.79508247 0.79810198\n",
      " 0.79263767 0.7937875  0.79278114 0.79234979 0.79551433 0.79608966\n",
      " 0.7955134  0.79522615 0.79680743 0.79450713 0.7933574  0.79493869\n",
      " 0.79508298 0.79623293 0.79522718 0.79148793 0.79479542 0.79637722\n",
      " 0.79292575 0.79493858 0.79421988 0.79292575 0.79493858 0.79421988\n",
      " 0.7959465  0.79652142 0.79695245        nan        nan        nan\n",
      "        nan        nan        nan        nan        nan        nan\n",
      "        nan        nan        nan        nan        nan        nan\n",
      "        nan        nan        nan        nan        nan        nan\n",
      "        nan        nan        nan        nan        nan        nan\n",
      " 0.79364455 0.79479449 0.79824607 0.79191865 0.79594516 0.79752737\n",
      " 0.79810167 0.79680722 0.79867711 0.80212879 0.7991098  0.8005472\n",
      " 0.79421988 0.79551381 0.79738328 0.79982674 0.79781411 0.79824607\n",
      " 0.7946504  0.79853281 0.79608904 0.7946504  0.79853281 0.79608904\n",
      " 0.79220611 0.79393201 0.79738318 0.78976121 0.79349994 0.79723888\n",
      " 0.79321321 0.79436325 0.79537024 0.79220715 0.79537055 0.79623262\n",
      " 0.79105648 0.79493962 0.79608935 0.79220673 0.79421947 0.79594609\n",
      " 0.79278165 0.79767105 0.79824618 0.79206285 0.7949392  0.79493931\n",
      " 0.79206285 0.7949392  0.79493931 0.79508319 0.7956578  0.79795851]\n",
      "  warnings.warn(\n",
      "C:\\Users\\shami\\AppData\\Local\\Programs\\Python\\Python312\\Lib\\site-packages\\sklearn\\model_selection\\_search.py:1052: UserWarning: One or more of the test scores are non-finite: [       nan        nan        nan        nan        nan        nan\n",
      "        nan        nan        nan        nan        nan        nan\n",
      "        nan        nan        nan        nan        nan        nan\n",
      "        nan        nan        nan        nan        nan        nan\n",
      "        nan        nan        nan 0.79214417 0.79332784 0.79708649\n",
      " 0.7910081  0.79564983 0.79726793 0.7987796  0.79681439 0.79821625\n",
      " 0.80213321 0.80005825 0.80100696 0.79331958 0.79497033 0.79814485\n",
      " 0.80042077 0.79831692 0.798773   0.79541456 0.79991452 0.79744373\n",
      " 0.79541456 0.79991452 0.79744373 0.79316784 0.79515794 0.7986361\n",
      " 0.78717832 0.79147474 0.79619533 0.79229588 0.79397855 0.7941919\n",
      " 0.79171212 0.79585079 0.79626711 0.79147058 0.79501223 0.79570683\n",
      " 0.79226949 0.79412298 0.79672107 0.79338953 0.79776926 0.79854641\n",
      " 0.79261805 0.79621411 0.79589026 0.79261805 0.79621411 0.79589026\n",
      " 0.79571724 0.79664751 0.79843701        nan        nan        nan\n",
      "        nan        nan        nan        nan        nan        nan\n",
      "        nan        nan        nan        nan        nan        nan\n",
      "        nan        nan        nan        nan        nan        nan\n",
      "        nan        nan        nan        nan        nan        nan\n",
      " 0.80004201 0.80109401 0.80069359 0.79913371 0.79908573 0.79772026\n",
      " 0.79736257 0.79640035 0.79859508 0.79763156 0.79958281 0.79797558\n",
      " 0.79758178 0.79628131 0.79684329 0.79604395 0.79878364 0.79890244\n",
      " 0.7954952  0.79649688 0.79815268 0.7954952  0.79649688 0.79815268\n",
      " 0.7956661  0.79647132 0.79836262 0.79294409 0.79336679 0.79370048\n",
      " 0.78968713 0.79295539 0.79375572 0.79504857 0.79353849 0.79362276\n",
      " 0.79467266 0.7959335  0.79377691 0.79188385 0.79192787 0.79310234\n",
      " 0.79386114 0.79318158 0.79329728 0.79544475 0.79480483 0.79411721\n",
      " 0.79544475 0.79480483 0.79411721 0.79445544 0.7937601  0.79356872\n",
      "        nan        nan        nan        nan        nan        nan\n",
      "        nan        nan        nan        nan        nan        nan\n",
      "        nan        nan        nan        nan        nan        nan\n",
      "        nan        nan        nan        nan        nan        nan\n",
      "        nan        nan        nan 0.7900214  0.79767271 0.79768461\n",
      " 0.79398179 0.79531477 0.79422746 0.79709838 0.79789921 0.79959009\n",
      " 0.80081807 0.80075256 0.79805649 0.79011173 0.79278796 0.79337122\n",
      " 0.79488723 0.8001457  0.79928278 0.7974282  0.7975621  0.79944058\n",
      " 0.7974282  0.7975621  0.79944058 0.79391614 0.79630043 0.7992423\n",
      " 0.79075536 0.79240521 0.79145678 0.79239406 0.79576059 0.79578676\n",
      " 0.79479534 0.79496265 0.79628172 0.79395023 0.7930491  0.79437464\n",
      " 0.79576173 0.79657315 0.79501649 0.79106484 0.79505531 0.79652601\n",
      " 0.79361762 0.79587086 0.79471878 0.79361762 0.79587086 0.79471878\n",
      " 0.79708551 0.79753865 0.79772841        nan        nan        nan\n",
      "        nan        nan        nan        nan        nan        nan\n",
      "        nan        nan        nan        nan        nan        nan\n",
      "        nan        nan        nan        nan        nan        nan\n",
      "        nan        nan        nan        nan        nan        nan\n",
      " 0.79101272 0.7931664  0.79748974 0.79087027 0.79547285 0.79720577\n",
      " 0.79838119 0.79664365 0.79901902 0.80230317 0.79983837 0.80089776\n",
      " 0.79395115 0.79549091 0.79758026 0.80042077 0.79831692 0.798773\n",
      " 0.79541456 0.79991452 0.79732843 0.79541456 0.79991452 0.79732843\n",
      " 0.79316784 0.79515794 0.7986361  0.78632403 0.79110896 0.79497827\n",
      " 0.79200497 0.79391509 0.79454441 0.79171212 0.79591629 0.79627217\n",
      " 0.79075987 0.79449321 0.79565259 0.79237714 0.79423883 0.79649719\n",
      " 0.79305103 0.79805295 0.79848599 0.79261805 0.79621411 0.79589026\n",
      " 0.79261805 0.79621411 0.79589026 0.79571724 0.79664751 0.79843701]\n",
      "  warnings.warn(\n"
     ]
    },
    {
     "name": "stdout",
     "output_type": "stream",
     "text": [
      "RandomForestClassifier - Train Accuracy: 0.98, Test Accuracy: 0.80\n",
      "Confusion Matrix:\n",
      " [[695 168]\n",
      " [179 697]]\n"
     ]
    },
    {
     "data": {
      "text/plain": [
       "<Figure size 800x600 with 2 Axes>"
      ],
      "image/png": "[encoded data removed]"
     },
     "metadata": {},
     "output_type": "display_data"
    },
    {
     "data": {
      "text/plain": [
       "<Figure size 1000x600 with 1 Axes>"
      ],
      "image/png": "[encoded data removed]"
     },
     "metadata": {},
     "output_type": "display_data"
    }
   ],
   "execution_count": 38
  },
  {
   "cell_type": "markdown",
   "id": "d8e29abed5695341",
   "metadata": {},
   "source": [
    "### 2. Ensemble Methods (Stacking)\n",
    "\n",
    "This section demonstrates the optimization of top-performing models using hyperparameter tuning and the implementation of a Stacking Classifier to combine their strengths for enhanced predictive performance.\n",
    "\n",
    "#### Key Steps\n",
    "\n",
    "- **Hyperparameter Tuning**:\n",
    "  The `tune_model` function leverages **GridSearchCV** to identify the best hyperparameter configurations through 5-fold cross-validation. This ensures optimized performance for each model by testing various parameter combinations. For the **Random Forest** model, parameters like `n_estimators`, `min_samples_split`, and `max_depth` are tuned. For **LightGBM (LGBM)**, the parameters `n_estimators` and `learning_rate` are optimized.\n",
    "\n",
    "- **Stacking Ensemble**:\n",
    "  A Stacking Classifier is implemented, combining the best-tuned **Random Forest** and **LightGBM** models as base estimators. **Logistic Regression** serves as the final estimator, learning from the predictions of the base models. This ensemble method captures the strengths of diverse models, improving generalization and accuracy.\n",
    "\n",
    "- **Model Evaluation**:\n",
    "  The stacked model is evaluated using metrics such as accuracy on the test dataset. Additional analysis is performed to understand its predictive capabilities, and predictions are generated for further use.\n",
    "\n",
    "#### Results\n",
    "- **Stacked Model Test Accuracy**: Highlights the effectiveness of ensemble learning for achieving higher accuracy and robustness.\n",
    "- **Prediction Results**: Final predictions from the stacked model are utilized for downstream tasks.\n",
    "\n",
    "#### Key Benefits\n",
    "1. **Optimized Performance**: Hyperparameter tuning ensures the best configurations for individual models.\n",
    "2. **Improved Accuracy**: Stacking combines multiple models, leveraging their strengths to enhance predictive performance.\n",
    "3. **Comprehensive Evaluation**: Systematic tuning and evaluation provide actionable insights for improved decision-making.\n",
    "4**Model Diversity**: Using Gradient Boosting, AdaBoost, SVC, and Stacking leverages different algorithms to capture various patterns in the data.\n",
    "\n",
    "The optimized **Stacking Classifier** achieved the best results, demonstrating improved generalization and reduced overfitting.\n",
    "\n"
   ]
  },
  {
   "metadata": {
    "ExecuteTime": {
     "end_time": "2024-11-16T06:55:41.438994Z",
     "start_time": "2024-11-16T06:54:45.607728Z"
    }
   },
   "cell_type": "code",
   "source": [
    "def tune_model(model, params, X, y):\n",
    "    grid_search = GridSearchCV(model, params, cv=5, n_jobs=-1)\n",
    "    grid_search.fit(X, y)\n",
    "    return grid_search.best_estimator_\n",
    "\n",
    "# Hyperparameter tuning for top models\n",
    "tuned_rf = tune_model(RandomForestClassifier(), {\n",
    "    'n_estimators': [100, 200],\n",
    "    'min_samples_split': [2, 5],\n",
    "    'max_depth': [10, 15]\n",
    "}, X_train, y_train)\n",
    "\n",
    "tuned_lgbm = tune_model(LGBMClassifier(), {\n",
    "    'n_estimators': [100, 200],\n",
    "    'learning_rate': [0.01, 0.1]\n",
    "}, X_train, y_train)\n",
    "\n",
    "# Stacking ensemble\n",
    "stack = StackingClassifier(estimators=[(\"RF\", tuned_rf), (\"LGBM\", tuned_lgbm)],\n",
    "                           final_estimator=LogisticRegression())\n",
    "stack.fit(X_train, y_train)\n",
    "print(\"Stacked Model Test Accuracy:\", accuracy_score(y_test, stack.predict(X_test)))\n",
    "\n",
    "evaluate_model(model=stack, X_test = X_test, y_test = y_test, y_train=y_train, X_train = X_train)\n",
    "prediction_results(model=stack, test_data = test_data, passenger_ids=passenger_ids)"
   ],
   "id": "96d42bb03202a92d",
   "outputs": [
    {
     "name": "stdout",
     "output_type": "stream",
     "text": [
      "[LightGBM] [Info] Number of positive: 3502, number of negative: 3452\n",
      "[LightGBM] [Info] Auto-choosing col-wise multi-threading, the overhead of testing was 0.002751 seconds.\n",
      "You can set `force_col_wise=true` to remove the overhead.\n",
      "[LightGBM] [Info] Total Bins 2944\n",
      "[LightGBM] [Info] Number of data points in the train set: 6954, number of used features: 27\n",
      "[LightGBM] [Info] [binary:BoostFromScore]: pavg=0.503595 -> initscore=0.014380\n",
      "[LightGBM] [Info] Start training from score 0.014380\n",
      "[LightGBM] [Info] Number of positive: 3502, number of negative: 3452\n",
      "[LightGBM] [Info] Auto-choosing col-wise multi-threading, the overhead of testing was 0.000548 seconds.\n",
      "You can set `force_col_wise=true` to remove the overhead.\n",
      "[LightGBM] [Info] Total Bins 2944\n",
      "[LightGBM] [Info] Number of data points in the train set: 6954, number of used features: 27\n",
      "[LightGBM] [Info] [binary:BoostFromScore]: pavg=0.503595 -> initscore=0.014380\n",
      "[LightGBM] [Info] Start training from score 0.014380\n",
      "[LightGBM] [Info] Number of positive: 2802, number of negative: 2761\n",
      "[LightGBM] [Info] Auto-choosing col-wise multi-threading, the overhead of testing was 0.000430 seconds.\n",
      "You can set `force_col_wise=true` to remove the overhead.\n",
      "[LightGBM] [Info] Total Bins 2943\n",
      "[LightGBM] [Info] Number of data points in the train set: 5563, number of used features: 27\n",
      "[LightGBM] [Info] [binary:BoostFromScore]: pavg=0.503685 -> initscore=0.014741\n",
      "[LightGBM] [Info] Start training from score 0.014741\n",
      "[LightGBM] [Info] Number of positive: 2802, number of negative: 2761\n",
      "[LightGBM] [Info] Auto-choosing col-wise multi-threading, the overhead of testing was 0.000803 seconds.\n",
      "You can set `force_col_wise=true` to remove the overhead.\n",
      "[LightGBM] [Info] Total Bins 2942\n",
      "[LightGBM] [Info] Number of data points in the train set: 5563, number of used features: 27\n",
      "[LightGBM] [Info] [binary:BoostFromScore]: pavg=0.503685 -> initscore=0.014741\n",
      "[LightGBM] [Info] Start training from score 0.014741\n",
      "[LightGBM] [Info] Number of positive: 2801, number of negative: 2762\n",
      "[LightGBM] [Info] Auto-choosing col-wise multi-threading, the overhead of testing was 0.000956 seconds.\n",
      "You can set `force_col_wise=true` to remove the overhead.\n",
      "[LightGBM] [Info] Total Bins 2944\n",
      "[LightGBM] [Info] Number of data points in the train set: 5563, number of used features: 27\n",
      "[LightGBM] [Info] [binary:BoostFromScore]: pavg=0.503505 -> initscore=0.014021\n",
      "[LightGBM] [Info] Start training from score 0.014021\n",
      "[LightGBM] [Info] Number of positive: 2801, number of negative: 2762\n",
      "[LightGBM] [Info] Auto-choosing col-wise multi-threading, the overhead of testing was 0.001293 seconds.\n",
      "You can set `force_col_wise=true` to remove the overhead.\n",
      "[LightGBM] [Info] Total Bins 2943\n",
      "[LightGBM] [Info] Number of data points in the train set: 5563, number of used features: 27\n",
      "[LightGBM] [Info] [binary:BoostFromScore]: pavg=0.503505 -> initscore=0.014021\n",
      "[LightGBM] [Info] Start training from score 0.014021\n",
      "[LightGBM] [Info] Number of positive: 2802, number of negative: 2762\n",
      "[LightGBM] [Info] Auto-choosing col-wise multi-threading, the overhead of testing was 0.001020 seconds.\n",
      "You can set `force_col_wise=true` to remove the overhead.\n",
      "[LightGBM] [Info] Total Bins 2944\n",
      "[LightGBM] [Info] Number of data points in the train set: 5564, number of used features: 27\n",
      "[LightGBM] [Info] [binary:BoostFromScore]: pavg=0.503595 -> initscore=0.014378\n",
      "[LightGBM] [Info] Start training from score 0.014378\n",
      "Stacked Model Test Accuracy: 0.8050603795284647\n",
      "[LightGBM] [Info] Number of positive: 3502, number of negative: 3452\n",
      "[LightGBM] [Info] Auto-choosing row-wise multi-threading, the overhead of testing was 0.000321 seconds.\n",
      "You can set `force_row_wise=true` to remove the overhead.\n",
      "And if memory is not enough, you can set `force_col_wise=true`.\n",
      "[LightGBM] [Info] Total Bins 2944\n",
      "[LightGBM] [Info] Number of data points in the train set: 6954, number of used features: 27\n",
      "[LightGBM] [Info] [binary:BoostFromScore]: pavg=0.503595 -> initscore=0.014380\n",
      "[LightGBM] [Info] Start training from score 0.014380\n",
      "[LightGBM] [Info] Number of positive: 2802, number of negative: 2761\n",
      "[LightGBM] [Info] Auto-choosing col-wise multi-threading, the overhead of testing was 0.000439 seconds.\n",
      "You can set `force_col_wise=true` to remove the overhead.\n",
      "[LightGBM] [Info] Total Bins 2943\n",
      "[LightGBM] [Info] Number of data points in the train set: 5563, number of used features: 27\n",
      "[LightGBM] [Info] [binary:BoostFromScore]: pavg=0.503685 -> initscore=0.014741\n",
      "[LightGBM] [Info] Start training from score 0.014741\n",
      "[LightGBM] [Info] Number of positive: 2802, number of negative: 2761\n",
      "[LightGBM] [Info] Auto-choosing col-wise multi-threading, the overhead of testing was 0.000803 seconds.\n",
      "You can set `force_col_wise=true` to remove the overhead.\n",
      "[LightGBM] [Info] Total Bins 2942\n",
      "[LightGBM] [Info] Number of data points in the train set: 5563, number of used features: 27\n",
      "[LightGBM] [Info] [binary:BoostFromScore]: pavg=0.503685 -> initscore=0.014741\n",
      "[LightGBM] [Info] Start training from score 0.014741\n",
      "[LightGBM] [Info] Number of positive: 2801, number of negative: 2762\n",
      "[LightGBM] [Info] Auto-choosing col-wise multi-threading, the overhead of testing was 0.000820 seconds.\n",
      "You can set `force_col_wise=true` to remove the overhead.\n",
      "[LightGBM] [Info] Total Bins 2944\n",
      "[LightGBM] [Info] Number of data points in the train set: 5563, number of used features: 27\n",
      "[LightGBM] [Info] [binary:BoostFromScore]: pavg=0.503505 -> initscore=0.014021\n",
      "[LightGBM] [Info] Start training from score 0.014021\n",
      "[LightGBM] [Info] Number of positive: 2801, number of negative: 2762\n",
      "[LightGBM] [Info] Auto-choosing row-wise multi-threading, the overhead of testing was 0.000696 seconds.\n",
      "You can set `force_row_wise=true` to remove the overhead.\n",
      "And if memory is not enough, you can set `force_col_wise=true`.\n",
      "[LightGBM] [Info] Total Bins 2943\n",
      "[LightGBM] [Info] Number of data points in the train set: 5563, number of used features: 27\n",
      "[LightGBM] [Info] [binary:BoostFromScore]: pavg=0.503505 -> initscore=0.014021\n",
      "[LightGBM] [Info] Start training from score 0.014021\n",
      "[LightGBM] [Info] Number of positive: 2802, number of negative: 2762\n",
      "[LightGBM] [Info] Auto-choosing row-wise multi-threading, the overhead of testing was 0.000868 seconds.\n",
      "You can set `force_row_wise=true` to remove the overhead.\n",
      "And if memory is not enough, you can set `force_col_wise=true`.\n",
      "[LightGBM] [Info] Total Bins 2944\n",
      "[LightGBM] [Info] Number of data points in the train set: 5564, number of used features: 27\n",
      "[LightGBM] [Info] [binary:BoostFromScore]: pavg=0.503595 -> initscore=0.014378\n",
      "[LightGBM] [Info] Start training from score 0.014378\n",
      "StackingClassifier - Train Accuracy: 0.94, Test Accuracy: 0.81\n",
      "Confusion Matrix:\n",
      " [[678 185]\n",
      " [146 730]]\n"
     ]
    },
    {
     "data": {
      "text/plain": [
       "<Figure size 800x600 with 2 Axes>"
      ],
      "image/png": "[encoded data removed]"
     },
     "metadata": {},
     "output_type": "display_data"
    }
   ],
   "execution_count": 39
  },
  {
   "metadata": {
    "ExecuteTime": {
     "end_time": "2024-11-16T06:55:41.449701Z",
     "start_time": "2024-11-16T06:55:41.443976Z"
    }
   },
   "cell_type": "code",
   "source": "",
   "id": "101f6b54940c07f8",
   "outputs": [],
   "execution_count": 39
  }
 ],
 "metadata": {
  "kaggle": {
   "accelerator": "none",
   "dataSources": [
    {
     "databundleVersionId": 3220602,
     "sourceId": 34377,
     "sourceType": "competition"
    }
   ],
   "isGpuEnabled": false,
   "isInternetEnabled": true,
   "language": "python",
   "sourceType": "notebook"
  },
  "kernelspec": {
   "display_name": "Python 3",
   "language": "python",
   "name": "python3"
  },
  "language_info": {
   "codemirror_mode": {
    "name": "ipython",
    "version": 3
   },
   "file_extension": ".py",
   "mimetype": "text/x-python",
   "name": "python",
   "nbconvert_exporter": "python",
   "pygments_lexer": "ipython3",
   "version": "3.10.12"
  },
  "papermill": {
   "default_parameters": {},
   "duration": 5.229832,
   "end_time": "2023-11-15T07:14:47.675245",
   "environment_variables": {},
   "exception": null,
   "input_path": "__notebook__.ipynb",
   "output_path": "__notebook__.ipynb",
   "parameters": {},
   "start_time": "2023-11-15T07:14:42.445413",
   "version": "2.4.0"
  }
 },
 "nbformat": 4,
 "nbformat_minor": 5
}
